{
 "cells": [
  {
   "cell_type": "code",
   "execution_count": 1,
   "id": "689822d2-5c8e-4cda-8ad7-e481cb372407",
   "metadata": {
    "scrolled": true
   },
   "outputs": [
    {
     "name": "stdout",
     "output_type": "stream",
     "text": [
      "Python 3.12.7\n"
     ]
    }
   ],
   "source": [
    "!python --version\n"
   ]
  },
  {
   "cell_type": "code",
   "execution_count": 2,
   "id": "004077a4-a675-4126-be4b-448d3caf7947",
   "metadata": {},
   "outputs": [
    {
     "name": "stdout",
     "output_type": "stream",
     "text": [
      "Requirement already satisfied: xarray in c:\\users\\4784faiza\\appdata\\local\\anaconda3\\lib\\site-packages (2025.1.2)\n",
      "Requirement already satisfied: netCDF4 in c:\\users\\4784faiza\\appdata\\local\\anaconda3\\lib\\site-packages (1.7.2)\n",
      "Requirement already satisfied: h5py in c:\\users\\4784faiza\\appdata\\local\\anaconda3\\lib\\site-packages (3.11.0)\n",
      "Requirement already satisfied: numpy>=1.24 in c:\\users\\4784faiza\\appdata\\local\\anaconda3\\lib\\site-packages (from xarray) (1.26.4)\n",
      "Requirement already satisfied: packaging>=23.2 in c:\\users\\4784faiza\\appdata\\local\\anaconda3\\lib\\site-packages (from xarray) (24.1)\n",
      "Requirement already satisfied: pandas>=2.1 in c:\\users\\4784faiza\\appdata\\local\\anaconda3\\lib\\site-packages (from xarray) (2.2.2)\n",
      "Requirement already satisfied: cftime in c:\\users\\4784faiza\\appdata\\local\\anaconda3\\lib\\site-packages (from netCDF4) (1.6.4.post1)\n",
      "Requirement already satisfied: certifi in c:\\users\\4784faiza\\appdata\\local\\anaconda3\\lib\\site-packages (from netCDF4) (2025.1.31)\n",
      "Requirement already satisfied: python-dateutil>=2.8.2 in c:\\users\\4784faiza\\appdata\\local\\anaconda3\\lib\\site-packages (from pandas>=2.1->xarray) (2.9.0.post0)\n",
      "Requirement already satisfied: pytz>=2020.1 in c:\\users\\4784faiza\\appdata\\local\\anaconda3\\lib\\site-packages (from pandas>=2.1->xarray) (2024.1)\n",
      "Requirement already satisfied: tzdata>=2022.7 in c:\\users\\4784faiza\\appdata\\local\\anaconda3\\lib\\site-packages (from pandas>=2.1->xarray) (2023.3)\n",
      "Requirement already satisfied: six>=1.5 in c:\\users\\4784faiza\\appdata\\local\\anaconda3\\lib\\site-packages (from python-dateutil>=2.8.2->pandas>=2.1->xarray) (1.16.0)\n",
      "Note: you may need to restart the kernel to use updated packages.\n"
     ]
    }
   ],
   "source": [
    "pip install xarray netCDF4 h5py\n"
   ]
  },
  {
   "cell_type": "code",
   "execution_count": 3,
   "id": "ae40d545-ea88-4a04-abc3-a430ba2d3c18",
   "metadata": {},
   "outputs": [
    {
     "name": "stdout",
     "output_type": "stream",
     "text": [
      "Requirement already satisfied: rioxarray in c:\\users\\4784faiza\\appdata\\local\\anaconda3\\lib\\site-packages (0.18.2)\n",
      "Requirement already satisfied: rasterio in c:\\users\\4784faiza\\appdata\\local\\anaconda3\\lib\\site-packages (1.4.3)\n",
      "Requirement already satisfied: packaging in c:\\users\\4784faiza\\appdata\\local\\anaconda3\\lib\\site-packages (from rioxarray) (24.1)\n",
      "Requirement already satisfied: xarray>=2024.7.0 in c:\\users\\4784faiza\\appdata\\local\\anaconda3\\lib\\site-packages (from rioxarray) (2025.1.2)\n",
      "Requirement already satisfied: pyproj>=3.3 in c:\\users\\4784faiza\\appdata\\local\\anaconda3\\lib\\site-packages (from rioxarray) (3.7.0)\n",
      "Requirement already satisfied: numpy>=1.23 in c:\\users\\4784faiza\\appdata\\local\\anaconda3\\lib\\site-packages (from rioxarray) (1.26.4)\n",
      "Requirement already satisfied: affine in c:\\users\\4784faiza\\appdata\\local\\anaconda3\\lib\\site-packages (from rasterio) (2.4.0)\n",
      "Requirement already satisfied: attrs in c:\\users\\4784faiza\\appdata\\local\\anaconda3\\lib\\site-packages (from rasterio) (23.1.0)\n",
      "Requirement already satisfied: certifi in c:\\users\\4784faiza\\appdata\\local\\anaconda3\\lib\\site-packages (from rasterio) (2025.1.31)\n",
      "Requirement already satisfied: click>=4.0 in c:\\users\\4784faiza\\appdata\\local\\anaconda3\\lib\\site-packages (from rasterio) (8.1.7)\n",
      "Requirement already satisfied: cligj>=0.5 in c:\\users\\4784faiza\\appdata\\local\\anaconda3\\lib\\site-packages (from rasterio) (0.7.2)\n",
      "Requirement already satisfied: click-plugins in c:\\users\\4784faiza\\appdata\\local\\anaconda3\\lib\\site-packages (from rasterio) (1.1.1)\n",
      "Requirement already satisfied: pyparsing in c:\\users\\4784faiza\\appdata\\local\\anaconda3\\lib\\site-packages (from rasterio) (3.1.2)\n",
      "Requirement already satisfied: colorama in c:\\users\\4784faiza\\appdata\\local\\anaconda3\\lib\\site-packages (from click>=4.0->rasterio) (0.4.6)\n",
      "Requirement already satisfied: pandas>=2.1 in c:\\users\\4784faiza\\appdata\\local\\anaconda3\\lib\\site-packages (from xarray>=2024.7.0->rioxarray) (2.2.2)\n",
      "Requirement already satisfied: python-dateutil>=2.8.2 in c:\\users\\4784faiza\\appdata\\local\\anaconda3\\lib\\site-packages (from pandas>=2.1->xarray>=2024.7.0->rioxarray) (2.9.0.post0)\n",
      "Requirement already satisfied: pytz>=2020.1 in c:\\users\\4784faiza\\appdata\\local\\anaconda3\\lib\\site-packages (from pandas>=2.1->xarray>=2024.7.0->rioxarray) (2024.1)\n",
      "Requirement already satisfied: tzdata>=2022.7 in c:\\users\\4784faiza\\appdata\\local\\anaconda3\\lib\\site-packages (from pandas>=2.1->xarray>=2024.7.0->rioxarray) (2023.3)\n",
      "Requirement already satisfied: six>=1.5 in c:\\users\\4784faiza\\appdata\\local\\anaconda3\\lib\\site-packages (from python-dateutil>=2.8.2->pandas>=2.1->xarray>=2024.7.0->rioxarray) (1.16.0)\n",
      "Note: you may need to restart the kernel to use updated packages.\n"
     ]
    }
   ],
   "source": [
    "pip install rioxarray rasterio\n"
   ]
  },
  {
   "cell_type": "code",
   "execution_count": 4,
   "id": "85d85f20-b09e-4a92-9e73-52d97f3e4f2f",
   "metadata": {},
   "outputs": [
    {
     "name": "stdout",
     "output_type": "stream",
     "text": [
      "Requirement already satisfied: matplotlib in c:\\users\\4784faiza\\appdata\\local\\anaconda3\\lib\\site-packages (3.9.2)\n",
      "Requirement already satisfied: pandas in c:\\users\\4784faiza\\appdata\\local\\anaconda3\\lib\\site-packages (2.2.2)\n",
      "Requirement already satisfied: contourpy>=1.0.1 in c:\\users\\4784faiza\\appdata\\local\\anaconda3\\lib\\site-packages (from matplotlib) (1.2.0)\n",
      "Requirement already satisfied: cycler>=0.10 in c:\\users\\4784faiza\\appdata\\local\\anaconda3\\lib\\site-packages (from matplotlib) (0.11.0)\n",
      "Requirement already satisfied: fonttools>=4.22.0 in c:\\users\\4784faiza\\appdata\\local\\anaconda3\\lib\\site-packages (from matplotlib) (4.51.0)\n",
      "Requirement already satisfied: kiwisolver>=1.3.1 in c:\\users\\4784faiza\\appdata\\local\\anaconda3\\lib\\site-packages (from matplotlib) (1.4.4)\n",
      "Requirement already satisfied: numpy>=1.23 in c:\\users\\4784faiza\\appdata\\local\\anaconda3\\lib\\site-packages (from matplotlib) (1.26.4)\n",
      "Requirement already satisfied: packaging>=20.0 in c:\\users\\4784faiza\\appdata\\local\\anaconda3\\lib\\site-packages (from matplotlib) (24.1)\n",
      "Requirement already satisfied: pillow>=8 in c:\\users\\4784faiza\\appdata\\local\\anaconda3\\lib\\site-packages (from matplotlib) (10.4.0)\n",
      "Requirement already satisfied: pyparsing>=2.3.1 in c:\\users\\4784faiza\\appdata\\local\\anaconda3\\lib\\site-packages (from matplotlib) (3.1.2)\n",
      "Requirement already satisfied: python-dateutil>=2.7 in c:\\users\\4784faiza\\appdata\\local\\anaconda3\\lib\\site-packages (from matplotlib) (2.9.0.post0)\n",
      "Requirement already satisfied: pytz>=2020.1 in c:\\users\\4784faiza\\appdata\\local\\anaconda3\\lib\\site-packages (from pandas) (2024.1)\n",
      "Requirement already satisfied: tzdata>=2022.7 in c:\\users\\4784faiza\\appdata\\local\\anaconda3\\lib\\site-packages (from pandas) (2023.3)\n",
      "Requirement already satisfied: six>=1.5 in c:\\users\\4784faiza\\appdata\\local\\anaconda3\\lib\\site-packages (from python-dateutil>=2.7->matplotlib) (1.16.0)\n",
      "Note: you may need to restart the kernel to use updated packages.\n"
     ]
    }
   ],
   "source": [
    "pip install matplotlib pandas\n"
   ]
  },
  {
   "cell_type": "code",
   "execution_count": 5,
   "id": "72bf4572-8bc5-4a04-a93b-a4069f6aef84",
   "metadata": {},
   "outputs": [
    {
     "name": "stdout",
     "output_type": "stream",
     "text": [
      "Requirement already satisfied: cartopy in c:\\users\\4784faiza\\appdata\\local\\anaconda3\\lib\\site-packages (0.24.1)\n",
      "Requirement already satisfied: geopandas in c:\\users\\4784faiza\\appdata\\local\\anaconda3\\lib\\site-packages (1.0.1)\n",
      "Requirement already satisfied: numpy>=1.23 in c:\\users\\4784faiza\\appdata\\local\\anaconda3\\lib\\site-packages (from cartopy) (1.26.4)\n",
      "Requirement already satisfied: matplotlib>=3.6 in c:\\users\\4784faiza\\appdata\\local\\anaconda3\\lib\\site-packages (from cartopy) (3.9.2)\n",
      "Requirement already satisfied: shapely>=1.8 in c:\\users\\4784faiza\\appdata\\local\\anaconda3\\lib\\site-packages (from cartopy) (2.0.7)\n",
      "Requirement already satisfied: packaging>=21 in c:\\users\\4784faiza\\appdata\\local\\anaconda3\\lib\\site-packages (from cartopy) (24.1)\n",
      "Requirement already satisfied: pyshp>=2.3 in c:\\users\\4784faiza\\appdata\\local\\anaconda3\\lib\\site-packages (from cartopy) (2.3.1)\n",
      "Requirement already satisfied: pyproj>=3.3.1 in c:\\users\\4784faiza\\appdata\\local\\anaconda3\\lib\\site-packages (from cartopy) (3.7.0)\n",
      "Requirement already satisfied: pyogrio>=0.7.2 in c:\\users\\4784faiza\\appdata\\local\\anaconda3\\lib\\site-packages (from geopandas) (0.10.0)\n",
      "Requirement already satisfied: pandas>=1.4.0 in c:\\users\\4784faiza\\appdata\\local\\anaconda3\\lib\\site-packages (from geopandas) (2.2.2)\n",
      "Requirement already satisfied: contourpy>=1.0.1 in c:\\users\\4784faiza\\appdata\\local\\anaconda3\\lib\\site-packages (from matplotlib>=3.6->cartopy) (1.2.0)\n",
      "Requirement already satisfied: cycler>=0.10 in c:\\users\\4784faiza\\appdata\\local\\anaconda3\\lib\\site-packages (from matplotlib>=3.6->cartopy) (0.11.0)\n",
      "Requirement already satisfied: fonttools>=4.22.0 in c:\\users\\4784faiza\\appdata\\local\\anaconda3\\lib\\site-packages (from matplotlib>=3.6->cartopy) (4.51.0)\n",
      "Requirement already satisfied: kiwisolver>=1.3.1 in c:\\users\\4784faiza\\appdata\\local\\anaconda3\\lib\\site-packages (from matplotlib>=3.6->cartopy) (1.4.4)\n",
      "Requirement already satisfied: pillow>=8 in c:\\users\\4784faiza\\appdata\\local\\anaconda3\\lib\\site-packages (from matplotlib>=3.6->cartopy) (10.4.0)\n",
      "Requirement already satisfied: pyparsing>=2.3.1 in c:\\users\\4784faiza\\appdata\\local\\anaconda3\\lib\\site-packages (from matplotlib>=3.6->cartopy) (3.1.2)\n",
      "Requirement already satisfied: python-dateutil>=2.7 in c:\\users\\4784faiza\\appdata\\local\\anaconda3\\lib\\site-packages (from matplotlib>=3.6->cartopy) (2.9.0.post0)\n",
      "Requirement already satisfied: pytz>=2020.1 in c:\\users\\4784faiza\\appdata\\local\\anaconda3\\lib\\site-packages (from pandas>=1.4.0->geopandas) (2024.1)\n",
      "Requirement already satisfied: tzdata>=2022.7 in c:\\users\\4784faiza\\appdata\\local\\anaconda3\\lib\\site-packages (from pandas>=1.4.0->geopandas) (2023.3)\n",
      "Requirement already satisfied: certifi in c:\\users\\4784faiza\\appdata\\local\\anaconda3\\lib\\site-packages (from pyogrio>=0.7.2->geopandas) (2025.1.31)\n",
      "Requirement already satisfied: six>=1.5 in c:\\users\\4784faiza\\appdata\\local\\anaconda3\\lib\\site-packages (from python-dateutil>=2.7->matplotlib>=3.6->cartopy) (1.16.0)\n",
      "Note: you may need to restart the kernel to use updated packages.\n"
     ]
    }
   ],
   "source": [
    "pip install cartopy geopandas\n"
   ]
  },
  {
   "cell_type": "code",
   "execution_count": 6,
   "id": "98b70bdd-542a-4c41-8f2d-a8b1546135b9",
   "metadata": {},
   "outputs": [
    {
     "name": "stdout",
     "output_type": "stream",
     "text": [
      "All libraries installed successfully!\n"
     ]
    }
   ],
   "source": [
    "import xarray as xr\n",
    "import netCDF4\n",
    "import h5py\n",
    "import rioxarray\n",
    "import rasterio\n",
    "import matplotlib.pyplot as plt\n",
    "import pandas as pd\n",
    "import cartopy.crs as ccrs\n",
    "import geopandas as gpd\n",
    "\n",
    "print(\"All libraries installed successfully!\")\n"
   ]
  },
  {
   "cell_type": "code",
   "execution_count": 7,
   "id": "0b442f23-0498-4e54-abe4-7dd20884700f",
   "metadata": {},
   "outputs": [
    {
     "name": "stdout",
     "output_type": "stream",
     "text": [
      "Requirement already satisfied: netCDF4 in c:\\users\\4784faiza\\appdata\\local\\anaconda3\\lib\\site-packages (1.7.2)\n",
      "Requirement already satisfied: cftime in c:\\users\\4784faiza\\appdata\\local\\anaconda3\\lib\\site-packages (from netCDF4) (1.6.4.post1)\n",
      "Requirement already satisfied: certifi in c:\\users\\4784faiza\\appdata\\local\\anaconda3\\lib\\site-packages (from netCDF4) (2025.1.31)\n",
      "Requirement already satisfied: numpy in c:\\users\\4784faiza\\appdata\\local\\anaconda3\\lib\\site-packages (from netCDF4) (1.26.4)\n",
      "Note: you may need to restart the kernel to use updated packages.\n"
     ]
    }
   ],
   "source": [
    "pip install netCDF4\n"
   ]
  },
  {
   "cell_type": "code",
   "execution_count": 8,
   "id": "d6233d8b-f560-400e-ad92-5f67592cdbe1",
   "metadata": {},
   "outputs": [
    {
     "name": "stdout",
     "output_type": "stream",
     "text": [
      "Requirement already satisfied: xarray in c:\\users\\4784faiza\\appdata\\local\\anaconda3\\lib\\site-packages (2025.1.2)\n",
      "Requirement already satisfied: numpy>=1.24 in c:\\users\\4784faiza\\appdata\\local\\anaconda3\\lib\\site-packages (from xarray) (1.26.4)\n",
      "Requirement already satisfied: packaging>=23.2 in c:\\users\\4784faiza\\appdata\\local\\anaconda3\\lib\\site-packages (from xarray) (24.1)\n",
      "Requirement already satisfied: pandas>=2.1 in c:\\users\\4784faiza\\appdata\\local\\anaconda3\\lib\\site-packages (from xarray) (2.2.2)\n",
      "Requirement already satisfied: python-dateutil>=2.8.2 in c:\\users\\4784faiza\\appdata\\local\\anaconda3\\lib\\site-packages (from pandas>=2.1->xarray) (2.9.0.post0)\n",
      "Requirement already satisfied: pytz>=2020.1 in c:\\users\\4784faiza\\appdata\\local\\anaconda3\\lib\\site-packages (from pandas>=2.1->xarray) (2024.1)\n",
      "Requirement already satisfied: tzdata>=2022.7 in c:\\users\\4784faiza\\appdata\\local\\anaconda3\\lib\\site-packages (from pandas>=2.1->xarray) (2023.3)\n",
      "Requirement already satisfied: six>=1.5 in c:\\users\\4784faiza\\appdata\\local\\anaconda3\\lib\\site-packages (from python-dateutil>=2.8.2->pandas>=2.1->xarray) (1.16.0)\n",
      "Note: you may need to restart the kernel to use updated packages.\n"
     ]
    }
   ],
   "source": [
    "pip install xarray\n"
   ]
  },
  {
   "cell_type": "code",
   "execution_count": 9,
   "id": "d98213b2-eb44-474d-92f6-5f026913d547",
   "metadata": {
    "scrolled": true
   },
   "outputs": [
    {
     "name": "stdout",
     "output_type": "stream",
     "text": [
      "Requirement already satisfied: rioxarray in c:\\users\\4784faiza\\appdata\\local\\anaconda3\\lib\\site-packages (0.18.2)\n",
      "Requirement already satisfied: packaging in c:\\users\\4784faiza\\appdata\\local\\anaconda3\\lib\\site-packages (from rioxarray) (24.1)\n",
      "Requirement already satisfied: rasterio>=1.3.7 in c:\\users\\4784faiza\\appdata\\local\\anaconda3\\lib\\site-packages (from rioxarray) (1.4.3)\n",
      "Requirement already satisfied: xarray>=2024.7.0 in c:\\users\\4784faiza\\appdata\\local\\anaconda3\\lib\\site-packages (from rioxarray) (2025.1.2)\n",
      "Requirement already satisfied: pyproj>=3.3 in c:\\users\\4784faiza\\appdata\\local\\anaconda3\\lib\\site-packages (from rioxarray) (3.7.0)\n",
      "Requirement already satisfied: numpy>=1.23 in c:\\users\\4784faiza\\appdata\\local\\anaconda3\\lib\\site-packages (from rioxarray) (1.26.4)\n",
      "Requirement already satisfied: certifi in c:\\users\\4784faiza\\appdata\\local\\anaconda3\\lib\\site-packages (from pyproj>=3.3->rioxarray) (2025.1.31)\n",
      "Requirement already satisfied: affine in c:\\users\\4784faiza\\appdata\\local\\anaconda3\\lib\\site-packages (from rasterio>=1.3.7->rioxarray) (2.4.0)\n",
      "Requirement already satisfied: attrs in c:\\users\\4784faiza\\appdata\\local\\anaconda3\\lib\\site-packages (from rasterio>=1.3.7->rioxarray) (23.1.0)\n",
      "Requirement already satisfied: click>=4.0 in c:\\users\\4784faiza\\appdata\\local\\anaconda3\\lib\\site-packages (from rasterio>=1.3.7->rioxarray) (8.1.7)\n",
      "Requirement already satisfied: cligj>=0.5 in c:\\users\\4784faiza\\appdata\\local\\anaconda3\\lib\\site-packages (from rasterio>=1.3.7->rioxarray) (0.7.2)\n",
      "Requirement already satisfied: click-plugins in c:\\users\\4784faiza\\appdata\\local\\anaconda3\\lib\\site-packages (from rasterio>=1.3.7->rioxarray) (1.1.1)\n",
      "Requirement already satisfied: pyparsing in c:\\users\\4784faiza\\appdata\\local\\anaconda3\\lib\\site-packages (from rasterio>=1.3.7->rioxarray) (3.1.2)\n",
      "Requirement already satisfied: pandas>=2.1 in c:\\users\\4784faiza\\appdata\\local\\anaconda3\\lib\\site-packages (from xarray>=2024.7.0->rioxarray) (2.2.2)\n",
      "Requirement already satisfied: colorama in c:\\users\\4784faiza\\appdata\\local\\anaconda3\\lib\\site-packages (from click>=4.0->rasterio>=1.3.7->rioxarray) (0.4.6)\n",
      "Requirement already satisfied: python-dateutil>=2.8.2 in c:\\users\\4784faiza\\appdata\\local\\anaconda3\\lib\\site-packages (from pandas>=2.1->xarray>=2024.7.0->rioxarray) (2.9.0.post0)\n",
      "Requirement already satisfied: pytz>=2020.1 in c:\\users\\4784faiza\\appdata\\local\\anaconda3\\lib\\site-packages (from pandas>=2.1->xarray>=2024.7.0->rioxarray) (2024.1)\n",
      "Requirement already satisfied: tzdata>=2022.7 in c:\\users\\4784faiza\\appdata\\local\\anaconda3\\lib\\site-packages (from pandas>=2.1->xarray>=2024.7.0->rioxarray) (2023.3)\n",
      "Requirement already satisfied: six>=1.5 in c:\\users\\4784faiza\\appdata\\local\\anaconda3\\lib\\site-packages (from python-dateutil>=2.8.2->pandas>=2.1->xarray>=2024.7.0->rioxarray) (1.16.0)\n",
      "Note: you may need to restart the kernel to use updated packages.\n"
     ]
    }
   ],
   "source": [
    "pip install rioxarray\n"
   ]
  },
  {
   "cell_type": "code",
   "execution_count": 10,
   "id": "5c4cadc9-2110-4eba-865a-7c005ee7b882",
   "metadata": {},
   "outputs": [
    {
     "name": "stdout",
     "output_type": "stream",
     "text": [
      "Collecting GDAL\n",
      "  Using cached gdal-3.10.2.tar.gz (838 kB)\n",
      "  Installing build dependencies: started\n",
      "  Installing build dependencies: finished with status 'done'\n",
      "  Getting requirements to build wheel: started\n",
      "  Getting requirements to build wheel: finished with status 'done'\n",
      "  Preparing metadata (pyproject.toml): started\n",
      "  Preparing metadata (pyproject.toml): finished with status 'done'\n",
      "Building wheels for collected packages: GDAL\n",
      "  Building wheel for GDAL (pyproject.toml): started\n",
      "  Building wheel for GDAL (pyproject.toml): finished with status 'error'\n",
      "Failed to build GDAL\n"
     ]
    },
    {
     "name": "stderr",
     "output_type": "stream",
     "text": [
      "  error: subprocess-exited-with-error\n",
      "  \n",
      "  Building wheel for GDAL (pyproject.toml) did not run successfully.\n",
      "  exit code: 1\n",
      "  \n",
      "  [126 lines of output]\n",
      "  C:\\Users\\4784faiza\\AppData\\Local\\Temp\\pip-build-env-bcz4h49v\\overlay\\Lib\\site-packages\\setuptools\\config\\_apply_pyprojecttoml.py:81: SetuptoolsWarning: `extras_require` overwritten in `pyproject.toml` (optional-dependencies)\n",
      "    corresp(dist, value, root_dir)\n",
      "  Using numpy 2.2.3\n",
      "  running bdist_wheel\n",
      "  running build\n",
      "  running build_py\n",
      "  creating build\\lib.win-amd64-cpython-312\\osgeo\n",
      "  copying osgeo\\gdal.py -> build\\lib.win-amd64-cpython-312\\osgeo\n",
      "  copying osgeo\\gdalconst.py -> build\\lib.win-amd64-cpython-312\\osgeo\n",
      "  copying osgeo\\gdalnumeric.py -> build\\lib.win-amd64-cpython-312\\osgeo\n",
      "  copying osgeo\\gdal_array.py -> build\\lib.win-amd64-cpython-312\\osgeo\n",
      "  copying osgeo\\gnm.py -> build\\lib.win-amd64-cpython-312\\osgeo\n",
      "  copying osgeo\\ogr.py -> build\\lib.win-amd64-cpython-312\\osgeo\n",
      "  copying osgeo\\osr.py -> build\\lib.win-amd64-cpython-312\\osgeo\n",
      "  copying osgeo\\__init__.py -> build\\lib.win-amd64-cpython-312\\osgeo\n",
      "  creating build\\lib.win-amd64-cpython-312\\osgeo_utils\n",
      "  copying gdal-utils\\osgeo_utils\\gdal2tiles.py -> build\\lib.win-amd64-cpython-312\\osgeo_utils\n",
      "  copying gdal-utils\\osgeo_utils\\gdal2xyz.py -> build\\lib.win-amd64-cpython-312\\osgeo_utils\n",
      "  copying gdal-utils\\osgeo_utils\\gdalattachpct.py -> build\\lib.win-amd64-cpython-312\\osgeo_utils\n",
      "  copying gdal-utils\\osgeo_utils\\gdalcompare.py -> build\\lib.win-amd64-cpython-312\\osgeo_utils\n",
      "  copying gdal-utils\\osgeo_utils\\gdalmove.py -> build\\lib.win-amd64-cpython-312\\osgeo_utils\n",
      "  copying gdal-utils\\osgeo_utils\\gdal_calc.py -> build\\lib.win-amd64-cpython-312\\osgeo_utils\n",
      "  copying gdal-utils\\osgeo_utils\\gdal_edit.py -> build\\lib.win-amd64-cpython-312\\osgeo_utils\n",
      "  copying gdal-utils\\osgeo_utils\\gdal_fillnodata.py -> build\\lib.win-amd64-cpython-312\\osgeo_utils\n",
      "  copying gdal-utils\\osgeo_utils\\gdal_merge.py -> build\\lib.win-amd64-cpython-312\\osgeo_utils\n",
      "  copying gdal-utils\\osgeo_utils\\gdal_pansharpen.py -> build\\lib.win-amd64-cpython-312\\osgeo_utils\n",
      "  copying gdal-utils\\osgeo_utils\\gdal_polygonize.py -> build\\lib.win-amd64-cpython-312\\osgeo_utils\n",
      "  copying gdal-utils\\osgeo_utils\\gdal_proximity.py -> build\\lib.win-amd64-cpython-312\\osgeo_utils\n",
      "  copying gdal-utils\\osgeo_utils\\gdal_retile.py -> build\\lib.win-amd64-cpython-312\\osgeo_utils\n",
      "  copying gdal-utils\\osgeo_utils\\gdal_sieve.py -> build\\lib.win-amd64-cpython-312\\osgeo_utils\n",
      "  copying gdal-utils\\osgeo_utils\\ogrmerge.py -> build\\lib.win-amd64-cpython-312\\osgeo_utils\n",
      "  copying gdal-utils\\osgeo_utils\\ogr_layer_algebra.py -> build\\lib.win-amd64-cpython-312\\osgeo_utils\n",
      "  copying gdal-utils\\osgeo_utils\\pct2rgb.py -> build\\lib.win-amd64-cpython-312\\osgeo_utils\n",
      "  copying gdal-utils\\osgeo_utils\\rgb2pct.py -> build\\lib.win-amd64-cpython-312\\osgeo_utils\n",
      "  copying gdal-utils\\osgeo_utils\\__init__.py -> build\\lib.win-amd64-cpython-312\\osgeo_utils\n",
      "  creating build\\lib.win-amd64-cpython-312\\osgeo_utils\\auxiliary\n",
      "  copying gdal-utils\\osgeo_utils\\auxiliary\\array_util.py -> build\\lib.win-amd64-cpython-312\\osgeo_utils\\auxiliary\n",
      "  copying gdal-utils\\osgeo_utils\\auxiliary\\base.py -> build\\lib.win-amd64-cpython-312\\osgeo_utils\\auxiliary\n",
      "  copying gdal-utils\\osgeo_utils\\auxiliary\\batch_creator.py -> build\\lib.win-amd64-cpython-312\\osgeo_utils\\auxiliary\n",
      "  copying gdal-utils\\osgeo_utils\\auxiliary\\color_palette.py -> build\\lib.win-amd64-cpython-312\\osgeo_utils\\auxiliary\n",
      "  copying gdal-utils\\osgeo_utils\\auxiliary\\color_table.py -> build\\lib.win-amd64-cpython-312\\osgeo_utils\\auxiliary\n",
      "  copying gdal-utils\\osgeo_utils\\auxiliary\\extent_util.py -> build\\lib.win-amd64-cpython-312\\osgeo_utils\\auxiliary\n",
      "  copying gdal-utils\\osgeo_utils\\auxiliary\\gdal_argparse.py -> build\\lib.win-amd64-cpython-312\\osgeo_utils\\auxiliary\n",
      "  copying gdal-utils\\osgeo_utils\\auxiliary\\numpy_util.py -> build\\lib.win-amd64-cpython-312\\osgeo_utils\\auxiliary\n",
      "  copying gdal-utils\\osgeo_utils\\auxiliary\\osr_util.py -> build\\lib.win-amd64-cpython-312\\osgeo_utils\\auxiliary\n",
      "  copying gdal-utils\\osgeo_utils\\auxiliary\\progress.py -> build\\lib.win-amd64-cpython-312\\osgeo_utils\\auxiliary\n",
      "  copying gdal-utils\\osgeo_utils\\auxiliary\\raster_creation.py -> build\\lib.win-amd64-cpython-312\\osgeo_utils\\auxiliary\n",
      "  copying gdal-utils\\osgeo_utils\\auxiliary\\rectangle.py -> build\\lib.win-amd64-cpython-312\\osgeo_utils\\auxiliary\n",
      "  copying gdal-utils\\osgeo_utils\\auxiliary\\util.py -> build\\lib.win-amd64-cpython-312\\osgeo_utils\\auxiliary\n",
      "  copying gdal-utils\\osgeo_utils\\auxiliary\\__init__.py -> build\\lib.win-amd64-cpython-312\\osgeo_utils\\auxiliary\n",
      "  creating build\\lib.win-amd64-cpython-312\\osgeo_utils\\samples\n",
      "  copying gdal-utils\\osgeo_utils\\samples\\assemblepoly.py -> build\\lib.win-amd64-cpython-312\\osgeo_utils\\samples\n",
      "  copying gdal-utils\\osgeo_utils\\samples\\build_jp2_from_xml.py -> build\\lib.win-amd64-cpython-312\\osgeo_utils\\samples\n",
      "  copying gdal-utils\\osgeo_utils\\samples\\classify.py -> build\\lib.win-amd64-cpython-312\\osgeo_utils\\samples\n",
      "  copying gdal-utils\\osgeo_utils\\samples\\crs2crs2grid.py -> build\\lib.win-amd64-cpython-312\\osgeo_utils\\samples\n",
      "  copying gdal-utils\\osgeo_utils\\samples\\densify.py -> build\\lib.win-amd64-cpython-312\\osgeo_utils\\samples\n",
      "  copying gdal-utils\\osgeo_utils\\samples\\dump_jp2.py -> build\\lib.win-amd64-cpython-312\\osgeo_utils\\samples\n",
      "  copying gdal-utils\\osgeo_utils\\samples\\epsg_tr.py -> build\\lib.win-amd64-cpython-312\\osgeo_utils\\samples\n",
      "  copying gdal-utils\\osgeo_utils\\samples\\esri2wkt.py -> build\\lib.win-amd64-cpython-312\\osgeo_utils\\samples\n",
      "  copying gdal-utils\\osgeo_utils\\samples\\fft.py -> build\\lib.win-amd64-cpython-312\\osgeo_utils\\samples\n",
      "  copying gdal-utils\\osgeo_utils\\samples\\fix_gpkg.py -> build\\lib.win-amd64-cpython-312\\osgeo_utils\\samples\n",
      "  copying gdal-utils\\osgeo_utils\\samples\\gcps2ogr.py -> build\\lib.win-amd64-cpython-312\\osgeo_utils\\samples\n",
      "  copying gdal-utils\\osgeo_utils\\samples\\gcps2vec.py -> build\\lib.win-amd64-cpython-312\\osgeo_utils\\samples\n",
      "  copying gdal-utils\\osgeo_utils\\samples\\gcps2wld.py -> build\\lib.win-amd64-cpython-312\\osgeo_utils\\samples\n",
      "  copying gdal-utils\\osgeo_utils\\samples\\gdal2grd.py -> build\\lib.win-amd64-cpython-312\\osgeo_utils\\samples\n",
      "  copying gdal-utils\\osgeo_utils\\samples\\gdalbuildvrtofvrt.py -> build\\lib.win-amd64-cpython-312\\osgeo_utils\\samples\n",
      "  copying gdal-utils\\osgeo_utils\\samples\\gdalchksum.py -> build\\lib.win-amd64-cpython-312\\osgeo_utils\\samples\n",
      "  copying gdal-utils\\osgeo_utils\\samples\\gdalcopyproj.py -> build\\lib.win-amd64-cpython-312\\osgeo_utils\\samples\n",
      "  copying gdal-utils\\osgeo_utils\\samples\\gdalfilter.py -> build\\lib.win-amd64-cpython-312\\osgeo_utils\\samples\n",
      "  copying gdal-utils\\osgeo_utils\\samples\\gdalident.py -> build\\lib.win-amd64-cpython-312\\osgeo_utils\\samples\n",
      "  copying gdal-utils\\osgeo_utils\\samples\\gdalimport.py -> build\\lib.win-amd64-cpython-312\\osgeo_utils\\samples\n",
      "  copying gdal-utils\\osgeo_utils\\samples\\gdalinfo.py -> build\\lib.win-amd64-cpython-312\\osgeo_utils\\samples\n",
      "  copying gdal-utils\\osgeo_utils\\samples\\gdallocationinfo.py -> build\\lib.win-amd64-cpython-312\\osgeo_utils\\samples\n",
      "  copying gdal-utils\\osgeo_utils\\samples\\gdal_auth.py -> build\\lib.win-amd64-cpython-312\\osgeo_utils\\samples\n",
      "  copying gdal-utils\\osgeo_utils\\samples\\gdal_cp.py -> build\\lib.win-amd64-cpython-312\\osgeo_utils\\samples\n",
      "  copying gdal-utils\\osgeo_utils\\samples\\gdal_create_pdf.py -> build\\lib.win-amd64-cpython-312\\osgeo_utils\\samples\n",
      "  copying gdal-utils\\osgeo_utils\\samples\\gdal_ls.py -> build\\lib.win-amd64-cpython-312\\osgeo_utils\\samples\n",
      "  copying gdal-utils\\osgeo_utils\\samples\\gdal_lut.py -> build\\lib.win-amd64-cpython-312\\osgeo_utils\\samples\n",
      "  copying gdal-utils\\osgeo_utils\\samples\\gdal_mkdir.py -> build\\lib.win-amd64-cpython-312\\osgeo_utils\\samples\n",
      "  copying gdal-utils\\osgeo_utils\\samples\\gdal_remove_towgs84.py -> build\\lib.win-amd64-cpython-312\\osgeo_utils\\samples\n",
      "  copying gdal-utils\\osgeo_utils\\samples\\gdal_rm.py -> build\\lib.win-amd64-cpython-312\\osgeo_utils\\samples\n",
      "  copying gdal-utils\\osgeo_utils\\samples\\gdal_rmdir.py -> build\\lib.win-amd64-cpython-312\\osgeo_utils\\samples\n",
      "  copying gdal-utils\\osgeo_utils\\samples\\gdal_vrtmerge.py -> build\\lib.win-amd64-cpython-312\\osgeo_utils\\samples\n",
      "  copying gdal-utils\\osgeo_utils\\samples\\get_soundg.py -> build\\lib.win-amd64-cpython-312\\osgeo_utils\\samples\n",
      "  copying gdal-utils\\osgeo_utils\\samples\\histrep.py -> build\\lib.win-amd64-cpython-312\\osgeo_utils\\samples\n",
      "  copying gdal-utils\\osgeo_utils\\samples\\hsv_merge.py -> build\\lib.win-amd64-cpython-312\\osgeo_utils\\samples\n",
      "  copying gdal-utils\\osgeo_utils\\samples\\jpeg_in_tiff_extract.py -> build\\lib.win-amd64-cpython-312\\osgeo_utils\\samples\n",
      "  copying gdal-utils\\osgeo_utils\\samples\\load2odbc.py -> build\\lib.win-amd64-cpython-312\\osgeo_utils\\samples\n",
      "  copying gdal-utils\\osgeo_utils\\samples\\loslas2ntv2.py -> build\\lib.win-amd64-cpython-312\\osgeo_utils\\samples\n",
      "  copying gdal-utils\\osgeo_utils\\samples\\magphase.py -> build\\lib.win-amd64-cpython-312\\osgeo_utils\\samples\n",
      "  copying gdal-utils\\osgeo_utils\\samples\\make_fuzzer_friendly_archive.py -> build\\lib.win-amd64-cpython-312\\osgeo_utils\\samples\n",
      "  copying gdal-utils\\osgeo_utils\\samples\\mkgraticule.py -> build\\lib.win-amd64-cpython-312\\osgeo_utils\\samples\n",
      "  copying gdal-utils\\osgeo_utils\\samples\\ogr2vrt.py -> build\\lib.win-amd64-cpython-312\\osgeo_utils\\samples\n",
      "  copying gdal-utils\\osgeo_utils\\samples\\ogrinfo.py -> build\\lib.win-amd64-cpython-312\\osgeo_utils\\samples\n",
      "  copying gdal-utils\\osgeo_utils\\samples\\ogrupdate.py -> build\\lib.win-amd64-cpython-312\\osgeo_utils\\samples\n",
      "  copying gdal-utils\\osgeo_utils\\samples\\ogr_build_junction_table.py -> build\\lib.win-amd64-cpython-312\\osgeo_utils\\samples\n",
      "  copying gdal-utils\\osgeo_utils\\samples\\ogr_dispatch.py -> build\\lib.win-amd64-cpython-312\\osgeo_utils\\samples\n",
      "  copying gdal-utils\\osgeo_utils\\samples\\rel.py -> build\\lib.win-amd64-cpython-312\\osgeo_utils\\samples\n",
      "  copying gdal-utils\\osgeo_utils\\samples\\tigerpoly.py -> build\\lib.win-amd64-cpython-312\\osgeo_utils\\samples\n",
      "  copying gdal-utils\\osgeo_utils\\samples\\tile_extent_from_raster.py -> build\\lib.win-amd64-cpython-312\\osgeo_utils\\samples\n",
      "  copying gdal-utils\\osgeo_utils\\samples\\tolatlong.py -> build\\lib.win-amd64-cpython-312\\osgeo_utils\\samples\n",
      "  copying gdal-utils\\osgeo_utils\\samples\\validate_cloud_optimized_geotiff.py -> build\\lib.win-amd64-cpython-312\\osgeo_utils\\samples\n",
      "  copying gdal-utils\\osgeo_utils\\samples\\validate_geoparquet.py -> build\\lib.win-amd64-cpython-312\\osgeo_utils\\samples\n",
      "  copying gdal-utils\\osgeo_utils\\samples\\validate_gpkg.py -> build\\lib.win-amd64-cpython-312\\osgeo_utils\\samples\n",
      "  copying gdal-utils\\osgeo_utils\\samples\\validate_jp2.py -> build\\lib.win-amd64-cpython-312\\osgeo_utils\\samples\n",
      "  copying gdal-utils\\osgeo_utils\\samples\\val_repl.py -> build\\lib.win-amd64-cpython-312\\osgeo_utils\\samples\n",
      "  copying gdal-utils\\osgeo_utils\\samples\\vec_tr.py -> build\\lib.win-amd64-cpython-312\\osgeo_utils\\samples\n",
      "  copying gdal-utils\\osgeo_utils\\samples\\vec_tr_spat.py -> build\\lib.win-amd64-cpython-312\\osgeo_utils\\samples\n",
      "  copying gdal-utils\\osgeo_utils\\samples\\wcs_virtds_params.py -> build\\lib.win-amd64-cpython-312\\osgeo_utils\\samples\n",
      "  copying gdal-utils\\osgeo_utils\\samples\\__init__.py -> build\\lib.win-amd64-cpython-312\\osgeo_utils\\samples\n",
      "  running egg_info\n",
      "  writing gdal-utils\\GDAL.egg-info\\PKG-INFO\n",
      "  writing dependency_links to gdal-utils\\GDAL.egg-info\\dependency_links.txt\n",
      "  writing entry points to gdal-utils\\GDAL.egg-info\\entry_points.txt\n",
      "  writing requirements to gdal-utils\\GDAL.egg-info\\requires.txt\n",
      "  writing top-level names to gdal-utils\\GDAL.egg-info\\top_level.txt\n",
      "  reading manifest file 'gdal-utils\\GDAL.egg-info\\SOURCES.txt'\n",
      "  writing manifest file 'gdal-utils\\GDAL.egg-info\\SOURCES.txt'\n",
      "  running build_ext\n",
      "  building 'osgeo._gdal' extension\n",
      "  building 'osgeo._gdalconst' extension\n",
      "  building 'osgeo._gdal_array' extension\n",
      "  building 'osgeo._ogr' extension\n",
      "  building 'osgeo._osr' extension\n",
      "  building 'osgeo._gnm' extension\n",
      "  error: Microsoft Visual C++ 14.0 or greater is required. Get it with \"Microsoft C++ Build Tools\": https://visualstudio.microsoft.com/visual-cpp-build-tools/\n",
      "  [end of output]\n",
      "  \n",
      "  note: This error originates from a subprocess, and is likely not a problem with pip.\n",
      "  ERROR: Failed building wheel for GDAL\n",
      "ERROR: ERROR: Failed to build installable wheels for some pyproject.toml based projects (GDAL)\n"
     ]
    }
   ],
   "source": [
    "!pip install GDAL\n"
   ]
  },
  {
   "cell_type": "code",
   "execution_count": 11,
   "id": "23bb2f33-ee85-4c54-88c2-d7629ed0cd3b",
   "metadata": {},
   "outputs": [
    {
     "name": "stdout",
     "output_type": "stream",
     "text": [
      "<xarray.Dataset> Size: 1GB\n",
      "Dimensions:    (time: 12784, bnds: 2, lat: 144, lon: 192)\n",
      "Coordinates:\n",
      "  * time       (time) datetime64[ns] 102kB 2015-01-01T12:00:00 ... 2049-12-31...\n",
      "  * lat        (lat) float64 1kB -89.38 -88.12 -86.88 ... 86.88 88.12 89.38\n",
      "  * lon        (lon) float64 2kB 0.9375 2.812 4.688 6.562 ... 355.3 357.2 359.1\n",
      "Dimensions without coordinates: bnds\n",
      "Data variables:\n",
      "    time_bnds  (time, bnds) datetime64[ns] 205kB ...\n",
      "    lat_bnds   (lat, bnds) float64 2kB ...\n",
      "    lon_bnds   (lon, bnds) float64 3kB ...\n",
      "    pr         (time, lat, lon) float32 1GB ...\n",
      "Attributes: (12/47)\n",
      "    Conventions:            CF-1.7 CMIP-6.2\n",
      "    activity_id:            ScenarioMIP\n",
      "    branch_method:          standard\n",
      "    branch_time_in_child:   60265.0\n",
      "    branch_time_in_parent:  60265.0\n",
      "    creation_date:          2019-11-08T10:43:20Z\n",
      "    ...                     ...\n",
      "    variable_id:            pr\n",
      "    variant_label:          r1i1p1f1\n",
      "    version:                v20191108\n",
      "    cmor_version:           3.4.0\n",
      "    tracking_id:            hdl:21.14100/c2d3cbd7-ceda-457c-a8cb-d8138176c932\n",
      "    license:                CMIP6 model data produced by CSIRO is licensed un...\n"
     ]
    }
   ],
   "source": [
    "import xarray as xr\n",
    "\n",
    "# Open NetCDF file\n",
    "ds = xr.open_dataset(\"D:/Shehzad/Pr_ACCESS-CM2_2000_2049/pr_day_ACCESS-CM2_ssp245_r1i1p1f1_gn_20150101-20491231.nc\")\n",
    "\n",
    "# Display dataset information\n",
    "print(ds)\n"
   ]
  },
  {
   "cell_type": "code",
   "execution_count": 12,
   "id": "f2322762-7fae-4c70-8dce-9ef8ffffbf7c",
   "metadata": {},
   "outputs": [
    {
     "ename": "MemoryError",
     "evalue": "Unable to allocate 5.27 GiB for an array with shape (12784, 2, 144, 192) and data type float64",
     "output_type": "error",
     "traceback": [
      "\u001b[1;31m---------------------------------------------------------------------------\u001b[0m",
      "\u001b[1;31mMemoryError\u001b[0m                               Traceback (most recent call last)",
      "\u001b[1;32m~\\AppData\\Local\\Temp\\ipykernel_12324\\374547262.py\u001b[0m in \u001b[0;36m?\u001b[1;34m()\u001b[0m\n\u001b[1;32m----> 1\u001b[1;33m \u001b[0mds\u001b[0m\u001b[1;33m.\u001b[0m\u001b[0mto_dataframe\u001b[0m\u001b[1;33m(\u001b[0m\u001b[1;33m)\u001b[0m\u001b[1;33m\u001b[0m\u001b[1;33m\u001b[0m\u001b[0m\n\u001b[0m",
      "\u001b[1;32m~\\AppData\\Local\\anaconda3\\Lib\\site-packages\\xarray\\core\\dataset.py\u001b[0m in \u001b[0;36m?\u001b[1;34m(self, dim_order)\u001b[0m\n\u001b[0;32m   7472\u001b[0m         \"\"\"\n\u001b[0;32m   7473\u001b[0m \u001b[1;33m\u001b[0m\u001b[0m\n\u001b[0;32m   7474\u001b[0m         \u001b[0mordered_dims\u001b[0m \u001b[1;33m=\u001b[0m \u001b[0mself\u001b[0m\u001b[1;33m.\u001b[0m\u001b[0m_normalize_dim_order\u001b[0m\u001b[1;33m(\u001b[0m\u001b[0mdim_order\u001b[0m\u001b[1;33m=\u001b[0m\u001b[0mdim_order\u001b[0m\u001b[1;33m)\u001b[0m\u001b[1;33m\u001b[0m\u001b[1;33m\u001b[0m\u001b[0m\n\u001b[0;32m   7475\u001b[0m \u001b[1;33m\u001b[0m\u001b[0m\n\u001b[1;32m-> 7476\u001b[1;33m         \u001b[1;32mreturn\u001b[0m \u001b[0mself\u001b[0m\u001b[1;33m.\u001b[0m\u001b[0m_to_dataframe\u001b[0m\u001b[1;33m(\u001b[0m\u001b[0mordered_dims\u001b[0m\u001b[1;33m=\u001b[0m\u001b[0mordered_dims\u001b[0m\u001b[1;33m)\u001b[0m\u001b[1;33m\u001b[0m\u001b[1;33m\u001b[0m\u001b[0m\n\u001b[0m",
      "\u001b[1;32m~\\AppData\\Local\\anaconda3\\Lib\\site-packages\\xarray\\core\\dataset.py\u001b[0m in \u001b[0;36m?\u001b[1;34m(self, ordered_dims)\u001b[0m\n\u001b[0;32m   7422\u001b[0m             \u001b[0mk\u001b[0m\u001b[1;33m\u001b[0m\u001b[1;33m\u001b[0m\u001b[0m\n\u001b[0;32m   7423\u001b[0m             \u001b[1;32mfor\u001b[0m \u001b[0mk\u001b[0m \u001b[1;32min\u001b[0m \u001b[0mcolumns_in_order\u001b[0m\u001b[1;33m\u001b[0m\u001b[1;33m\u001b[0m\u001b[0m\n\u001b[0;32m   7424\u001b[0m             \u001b[1;32mif\u001b[0m \u001b[0mis_extension_array_dtype\u001b[0m\u001b[1;33m(\u001b[0m\u001b[0mself\u001b[0m\u001b[1;33m.\u001b[0m\u001b[0mvariables\u001b[0m\u001b[1;33m[\u001b[0m\u001b[0mk\u001b[0m\u001b[1;33m]\u001b[0m\u001b[1;33m.\u001b[0m\u001b[0mdata\u001b[0m\u001b[1;33m)\u001b[0m\u001b[1;33m\u001b[0m\u001b[1;33m\u001b[0m\u001b[0m\n\u001b[0;32m   7425\u001b[0m         \u001b[1;33m]\u001b[0m\u001b[1;33m\u001b[0m\u001b[1;33m\u001b[0m\u001b[0m\n\u001b[1;32m-> 7426\u001b[1;33m         data = [\n\u001b[0m\u001b[0;32m   7427\u001b[0m             \u001b[0mself\u001b[0m\u001b[1;33m.\u001b[0m\u001b[0m_variables\u001b[0m\u001b[1;33m[\u001b[0m\u001b[0mk\u001b[0m\u001b[1;33m]\u001b[0m\u001b[1;33m.\u001b[0m\u001b[0mset_dims\u001b[0m\u001b[1;33m(\u001b[0m\u001b[0mordered_dims\u001b[0m\u001b[1;33m)\u001b[0m\u001b[1;33m.\u001b[0m\u001b[0mvalues\u001b[0m\u001b[1;33m.\u001b[0m\u001b[0mreshape\u001b[0m\u001b[1;33m(\u001b[0m\u001b[1;33m-\u001b[0m\u001b[1;36m1\u001b[0m\u001b[1;33m)\u001b[0m\u001b[1;33m\u001b[0m\u001b[1;33m\u001b[0m\u001b[0m\n\u001b[0;32m   7428\u001b[0m             \u001b[1;32mfor\u001b[0m \u001b[0mk\u001b[0m \u001b[1;32min\u001b[0m \u001b[0mnon_extension_array_columns\u001b[0m\u001b[1;33m\u001b[0m\u001b[1;33m\u001b[0m\u001b[0m\n\u001b[0;32m   7429\u001b[0m         \u001b[1;33m]\u001b[0m\u001b[1;33m\u001b[0m\u001b[1;33m\u001b[0m\u001b[0m\n",
      "\u001b[1;31mMemoryError\u001b[0m: Unable to allocate 5.27 GiB for an array with shape (12784, 2, 144, 192) and data type float64"
     ]
    }
   ],
   "source": [
    "ds.to_dataframe()"
   ]
  },
  {
   "cell_type": "code",
   "execution_count": null,
   "id": "dfc09e02-57f4-4e07-bd2c-f8f251e457af",
   "metadata": {},
   "outputs": [],
   "source": [
    "df.to_csv(\"climatedata.csv\")\n",
    "print(\"NetCDF file successfully converted to CSV!\")\n"
   ]
  },
  {
   "cell_type": "code",
   "execution_count": null,
   "id": "165a5943-d8eb-48e5-aa9a-1d0e3a25d60c",
   "metadata": {},
   "outputs": [],
   "source": [
    "import os\n",
    "import xarray as xr\n",
    "\n",
    "# Load NetCDF file\n",
    "ds = xr.open_dataset(\"D:/Shehzad/Pr_ACCESS-CM2_2000_2049/pr_day_ACCESS-CM2_ssp245_r1i1p1f1_gn_20150101-20491231.nc\")\n",
    "\n",
    "# Convert to Pandas DataFrame\n",
    "df = ds.to_dataframe()\n",
    "\n",
    "# Define output directory and file path\n",
    "output_dir = \"D:/Shehzad/Climatedata\"\n",
    "output_path = os.path.join(output_dir, \"output.csv\")\n",
    "\n",
    "# Create directory if it doesn't exist\n",
    "os.makedirs(output_dir, exist_ok=True)\n",
    "\n",
    "# Save the DataFrame as CSV\n",
    "df.to_csv(output_path)\n",
    "print(f\"CSV saved at: {output_path}\")\n"
   ]
  },
  {
   "cell_type": "code",
   "execution_count": null,
   "id": "cd9a1701-75b9-4189-82c3-84d06c2f30f8",
   "metadata": {
    "scrolled": true
   },
   "outputs": [],
   "source": [
    "    import xarray as xr\n",
    "import pandas as pd\n",
    "\n",
    "# Define NetCDF file path (already in Google Drive)\n",
    "#file_path = \"/content/drive/My Drive/pr_day_ACCESS-CM2_ssp245_r1i1p1f1_gn_20150101-20491231.nc\"\n",
    "\n",
    "file_path = \"D:/Shehzad/Pr_ACCESS-CM2_2000_2049/pr_day_ACCESS-CM2_ssp245_r1i1p1f1_gn_20150101-20491231.nc\"\n",
    "\n",
    "#ds = xr.open_dataset(\"D:/Shehzad/Pr_ACCESS-CM2_2000_2049/pr_day_ACCESS-CM2_ssp245_r1i1p1f1_gn_20150101-20491231.nc\")\n",
    "# Open dataset with lazy loading\n",
    "ds = xr.open_dataset(file_path, chunks={\"time\": 100})  # Load time dimension in small chunks\n",
    "\n",
    "# Select only the time range from 2020 to 2030\n",
    "#ds_subset = ds.sel(time=slice(\"2020-01-01T12:00:00\", \"2030-12-31T12:00:00\"))\n",
    "\n",
    "# Define CSV output path\n",
    "csv_output_path = \"D:/Shehzad/precipitation3_2020_2030.csv\"\n",
    "\n",
    "# Save CSV in small chunks to avoid memory issues\n",
    "df.to_csv(csv_output_path, index=False, chunksize=5000)\n",
    "\n",
    "print(f\"✅ CSV file saved at: {csv_output_path}\")\n"
   ]
  },
  {
   "cell_type": "code",
   "execution_count": null,
   "id": "8a77aee0-857c-4578-a025-16ae2ea128b4",
   "metadata": {},
   "outputs": [],
   "source": [
    "import xarray as xr\n",
    "\n",
    "# Define NetCDF file path (already in Google Drive)\n",
    "file_path = \"D:/Shehzad/Pr_ACCESS-CM2_2000_2049/pr_day_ACCESS-CM2_ssp245_r1i1p1f1_gn_20150101-20491231.nc\"\n",
    "\n",
    "# Open dataset with lazy loading (Dask)\n",
    "ds = xr.open_dataset(file_path, chunks={\"time\": 100})\n",
    "\n",
    "# Display dataset structure\n",
    "print(ds)\n"
   ]
  },
  {
   "cell_type": "code",
   "execution_count": null,
   "id": "20db8882-c2bb-4cfc-a785-c3a686ffd030",
   "metadata": {},
   "outputs": [],
   "source": [
    "# Print data types of all variables\n",
    "for var in ds.data_vars:\n",
    "    print(f\"{var}: {ds[var].dtype}\")\n"
   ]
  },
  {
   "cell_type": "code",
   "execution_count": null,
   "id": "ae6d7dcd-3309-4027-a7ab-1333c1cacea7",
   "metadata": {},
   "outputs": [],
   "source": [
    "import xarray as xr\n",
    "\n",
    "# Define NetCDF file path\n",
    "file_path = \"D:/Shehzad/Pr_ACCESS-CM2_2000_2049/pr_day_ACCESS-CM2_ssp245_r1i1p1f1_gn_20150101-20491231.nc\"\n",
    "\n",
    "# Open dataset with lazy loading\n",
    "ds = xr.open_dataset(file_path, chunks={\"time\": 100})\n",
    "\n",
    "# Print dataset dimensions\n",
    "print(ds.dims)\n"
   ]
  },
  {
   "cell_type": "code",
   "execution_count": null,
   "id": "17050451-063e-4804-acec-091c76c37ec5",
   "metadata": {},
   "outputs": [],
   "source": [
    "total_rows = ds.dims[\"time\"] * ds.dims[\"lat\"] * ds.dims[\"lon\"]\n",
    "print(f\"Total data points (rows in DataFrame): {total_rows:,}\")\n"
   ]
  },
  {
   "cell_type": "code",
   "execution_count": null,
   "id": "3d84b016-f497-4a75-9b31-a0e6f2a90755",
   "metadata": {},
   "outputs": [],
   "source": [
    "import xarray as xr\n",
    "\n",
    "# Define NetCDF file path\n",
    "file_path = \"D:/Shehzad/Pr_ACCESS-CM2_2000_2049/pr_day_ACCESS-CM2_ssp245_r1i1p1f1_gn_20150101-20491231.nc\"\n",
    "\n",
    "# Open dataset with lazy loading\n",
    "ds = xr.open_dataset(file_path, chunks={\"time\": 100})\n",
    "\n",
    "# Display basic info about \"pr\"\n",
    "print(ds[\"pr\"])\n"
   ]
  },
  {
   "cell_type": "code",
   "execution_count": null,
   "id": "f797fc37-ead5-4f62-afe3-aa640916dcab",
   "metadata": {},
   "outputs": [],
   "source": [
    "print(ds[\"pr\"].isel(time=slice(0, 5)))  # Show first 5 time steps\n"
   ]
  },
  {
   "cell_type": "code",
   "execution_count": null,
   "id": "e3706b3f-1620-4239-8412-68d90077e23c",
   "metadata": {},
   "outputs": [],
   "source": [
    "df = ds[\"pr\"].to_dataframe().reset_index()\n",
    "print(df.head())  # Show first 5 rows\n"
   ]
  },
  {
   "cell_type": "code",
   "execution_count": null,
   "id": "703f1be6-1a79-4f33-b2bc-9dc63a889e7d",
   "metadata": {},
   "outputs": [],
   "source": [
    "print(ds[\"pr\"].to_dataframe().describe())\n"
   ]
  },
  {
   "cell_type": "code",
   "execution_count": null,
   "id": "13b40e4a-3d5d-494a-899c-de687419bf09",
   "metadata": {},
   "outputs": [],
   "source": [
    "\n",
    "\n",
    "# Show last 5 rows\n",
    "print(df.tail())\n"
   ]
  },
  {
   "cell_type": "code",
   "execution_count": null,
   "id": "ba59978d-45a6-4102-87e5-b2d92b350d6f",
   "metadata": {},
   "outputs": [],
   "source": [
    "import xarray as xr\n",
    "\n",
    "# Define NetCDF file path\n",
    "file_path = \"D:/Shehzad/Pr_ACCESS-CM2_2000_2049/pr_day_ACCESS-CM2_ssp245_r1i1p1f1_gn_20150101-20491231.nc\"\n",
    "\n",
    "# Open dataset with lazy loading\n",
    "ds = xr.open_dataset(file_path, chunks={\"time\": 100})\n",
    "\n",
    "# Filter data for the year 2030\n",
    "ds_2030 = ds.sel(time=slice(\"2030-01-01\", \"2030-12-31\"))\n"
   ]
  },
  {
   "cell_type": "code",
   "execution_count": null,
   "id": "50f95fd3-0e14-4464-9899-48344249ad11",
   "metadata": {},
   "outputs": [],
   "source": [
    "# Compute mean precipitation for the entire year 2030\n",
    "mean_pr_2030 = ds_2030[\"pr\"].mean().item()  # Convert to Python float\n",
    "\n",
    "print(f\"📊 Mean Precipitation in 2030: {mean_pr_2030:.6f} kg m⁻² s⁻¹\")\n"
   ]
  },
  {
   "cell_type": "code",
   "execution_count": null,
   "id": "0388ae6a-c609-4e6d-a281-3c67b2c55df3",
   "metadata": {},
   "outputs": [],
   "source": [
    "monthly_mean_2030 = ds_2030[\"pr\"].groupby(\"time.month\").mean()\n",
    "\n",
    "print(monthly_mean_2030)\n"
   ]
  },
  {
   "cell_type": "code",
   "execution_count": null,
   "id": "9cad68c5-0b50-4d6a-8857-8622fe345a10",
   "metadata": {},
   "outputs": [],
   "source": [
    "mean_pr_2030 = ds_2030[\"pr\"].mean().compute()  # ✅ Forces computation\n",
    "print(f\"📊 Mean Precipitation in 2030: {mean_pr_2030:.6f} kg m⁻² s⁻¹\")\n"
   ]
  },
  {
   "cell_type": "code",
   "execution_count": null,
   "id": "b9226d98-b111-4da8-b4bb-b6e115a34340",
   "metadata": {},
   "outputs": [],
   "source": [
    "monthly_mean_2030 = ds_2030[\"pr\"].groupby(\"time.month\").mean().compute() * 86400\n",
    "print(monthly_mean_2030)\n"
   ]
  },
  {
   "cell_type": "code",
   "execution_count": null,
   "id": "eb74d855-d685-4e7f-befa-7b3e3f986fb2",
   "metadata": {},
   "outputs": [],
   "source": [
    "# Compute mean precipitation in kg/m²/s\n",
    "mean_pr_2030_kg_m2_s = ds_2030[\"pr\"].mean().compute()\n",
    "\n",
    "# Convert to mm/day\n",
    "mean_pr_2030_mm_day = mean_pr_2030_kg_m2_s * 86400  \n",
    "\n",
    "print(f\"📊 Mean Precipitation in 2030: {mean_pr_2030_mm_day:.2f} mm/day\")\n"
   ]
  },
  {
   "cell_type": "code",
   "execution_count": null,
   "id": "a7bf0ded-c497-4552-9140-b329a73d8578",
   "metadata": {},
   "outputs": [],
   "source": [
    "mean_pr_2030_kg_m2_s = ds_2030[\"pr\"].mean().compute()\n"
   ]
  },
  {
   "cell_type": "code",
   "execution_count": null,
   "id": "de9cc355-23ed-4eb5-9eba-38897a99c42d",
   "metadata": {},
   "outputs": [],
   "source": [
    "mean_pr_2030_mm_day = mean_pr_2030_kg_m2_s * 86400\n",
    "print(f\"📊 Mean Precipitation in 2030: {mean_pr_2030_mm_day:.2f} mm/day\")\n"
   ]
  },
  {
   "cell_type": "code",
   "execution_count": null,
   "id": "551a3d15-3425-4ea0-b1fa-cd5b476d9f99",
   "metadata": {
    "scrolled": true
   },
   "outputs": [],
   "source": [
    "total_pr_2030_mm = ds_2030[\"pr\"].sum().compute() * 86400\n",
    "print(f\"🌧️ Total Precipitation in 2030: {total_pr_2030_mm:.2f} mm\")\n"
   ]
  },
  {
   "cell_type": "code",
   "execution_count": null,
   "id": "0fc2f0a1-e227-4a6d-8f15-7c4e611f4232",
   "metadata": {},
   "outputs": [],
   "source": [
    "🔍 Why is the result so large?\n",
    "Mean Precipitation (pr.mean()) gives the daily average per grid point.\n",
    "\n",
    "This value (e.g., 3.45 mm/day) is already averaged over all locations.\n",
    "If we multiply by 365, we correctly estimate the annual mean precipitation at a single point.\n",
    "Summing (pr.sum()) without proper dimensions sums over ALL grid points.\n",
    "\n",
    "The dataset contains precipitation values for every latitude, longitude, and time step.\n",
    "If you sum everything without selecting a specific dimension, it adds up every grid cell’s precipitation instead of just accumulating time.\n",
    "🔹 Correct Way to Calculate"
   ]
  },
  {
   "cell_type": "code",
   "execution_count": null,
   "id": "d0c69de6-b233-405d-8137-fa7fecbd12b2",
   "metadata": {},
   "outputs": [],
   "source": [
    "# Step 1: Select 2030 data\n",
    "ds_2030 = ds.sel(time=slice(\"2030-01-01\", \"2030-12-31\"))\n",
    "\n",
    "# Step 2: Compute mean precipitation over space (lat & lon) and sum over time\n",
    "total_pr_2030_mm = ds_2030[\"pr\"].mean(dim=[\"lat\", \"lon\"]).sum(dim=\"time\").compute() * 86400\n",
    "\n",
    "print(f\"🌧️ Total Precipitation in 2030: {total_pr_2030_mm:.2f} mm\")\n"
   ]
  },
  {
   "cell_type": "code",
   "execution_count": null,
   "id": "0337dabe-b47c-4f82-8c59-374d491b8ba4",
   "metadata": {},
   "outputs": [],
   "source": [
    "# Step 1: Select 2030 data\n",
    "ds_2030_2040 = ds.sel(time=slice(\"2030-01-01\", \"2040-12-31\"))\n",
    "\n",
    "# Step 2: Compute mean precipitation over space (lat & lon) and sum over time\n",
    "total_pr_2030_2040_mm = ds_2030_2040[\"pr\"].mean(dim=[\"lat\", \"lon\"]).sum(dim=\"time\").compute() * 86400\n",
    "\n",
    "print(f\"🌧️ Total Precipitation in 2030-2040: {total_pr_2030_2040_mm:.2f} mm\")\n"
   ]
  },
  {
   "cell_type": "code",
   "execution_count": null,
   "id": "90218a03-a0f1-4f37-8576-f783c9e724b6",
   "metadata": {},
   "outputs": [],
   "source": [
    "# Step 1: Select data from 2030 to 2040\n",
    "ds_2030_2040 = ds.sel(time=slice(\"2030-01-01\", \"2040-12-31\"))\n",
    "\n",
    "# Step 2: Compute mean precipitation over space (lat & lon) and sum over time\n",
    "total_pr_2030_2040_mm = ds_2030_2040[\"pr\"].mean(dim=[\"lat\", \"lon\"]).sum(dim=\"time\").compute() * 86400\n",
    "\n",
    "# Step 3: Compute average yearly precipitation over the decade\n",
    "average_pr_2030_2040_mm_year = total_pr_2030_2040_mm / 11  # Since it's 11 years (2030-2040)\n",
    "\n",
    "print(f\"📊 Average Yearly Precipitation (2030-2040): {average_pr_2030_2040_mm_year:.2f} mm/year\")\n"
   ]
  },
  {
   "cell_type": "code",
   "execution_count": null,
   "id": "3cf3f665-2103-4e85-87a3-61476085b43b",
   "metadata": {},
   "outputs": [],
   "source": [
    "# Step 1: Select data for the year 2030\n",
    "ds_2030 = ds.sel(time=slice(\"2030-01-01\", \"2030-12-31\"))\n",
    "\n",
    "# Step 2: Compute mean precipitation over space (lat & lon) and sum over time\n",
    "total_pr_2030_mm = ds_2030[\"pr\"].mean(dim=[\"lat\", \"lon\"]).sum(dim=\"time\").compute() * 86400\n",
    "\n",
    "# Step 3: Compute yearly average\n",
    "average_pr_2030_mm_year = total_pr_2030_mm  # Since this is for a single year\n",
    "\n",
    "print(f\"📊 Average Yearly Precipitation in 2030: {average_pr_2030_mm_year:.2f} mm/year\")\n"
   ]
  },
  {
   "cell_type": "code",
   "execution_count": null,
   "id": "2d611fd9-0b8f-4502-afcb-ce1a426a8686",
   "metadata": {},
   "outputs": [],
   "source": [
    "#mean\n",
    "mean_pr_2030_mm_day = ds_2030[\"pr\"].mean(dim=[\"lat\", \"lon\", \"time\"]).compute() * 86400\n",
    "print(mean_pr_2030_mm_day)"
   ]
  },
  {
   "cell_type": "code",
   "execution_count": null,
   "id": "46e27aae-e429-4ae4-8d48-0b76196eb1f1",
   "metadata": {},
   "outputs": [],
   "source": [
    "#total precipitaion\n",
    "total_pr_2030_mm = ds_2030[\"pr\"].mean(dim=[\"lat\", \"lon\"]).sum(dim=\"time\").compute() * 86400\n",
    "print(total_pr_2030_mm)"
   ]
  },
  {
   "cell_type": "code",
   "execution_count": null,
   "id": "ffdb4287-58b5-42e7-9bd4-7b80e3fcf6cd",
   "metadata": {},
   "outputs": [],
   "source": [
    "# Step 1: Select data for the year 2031\n",
    "ds_2031 = ds.sel(time=slice(\"2031-01-01\", \"2031-12-31\"))\n",
    "\n",
    "# Step 2: Compute mean precipitation over space (lat & lon) and sum over time\n",
    "total_pr_2031_mm = ds_2031[\"pr\"].mean(dim=[\"lat\", \"lon\"]).sum(dim=\"time\").compute() * 86400\n",
    "\n",
    "# Step 3: Compute yearly average\n",
    "average_pr_2031_mm_year = total_pr_2031_mm  # Since this is for a single year\n",
    "\n",
    "print(f\"📊 Average Yearly Precipitation in 2031: {average_pr_2031_mm_year:.2f} mm/year\")"
   ]
  },
  {
   "cell_type": "code",
   "execution_count": null,
   "id": "21ee4290-7318-44af-b8b3-f3ae578d7df2",
   "metadata": {},
   "outputs": [],
   "source": [
    "# Step 1: Select data for the year 2032\n",
    "ds_2032 = ds.sel(time=slice(\"2032-01-01\", \"2032-12-31\"))\n",
    "\n",
    "# Step 2: Compute mean precipitation over space (lat & lon) and sum over time\n",
    "total_pr_2032_mm = ds_2032[\"pr\"].mean(dim=[\"lat\", \"lon\"]).sum(dim=\"time\").compute() * 86400\n",
    "\n",
    "# Step 3: Compute yearly average\n",
    "average_pr_2032_mm_year = total_pr_2032_mm  # Since this is for a single year\n",
    "\n",
    "print(f\"📊 Average Yearly Precipitation in 2032: {average_pr_2032_mm_year:.2f} mm/year\")"
   ]
  },
  {
   "cell_type": "code",
   "execution_count": null,
   "id": "7ab3d4f4-b3a2-4c05-ae65-db51923534a9",
   "metadata": {},
   "outputs": [],
   "source": [
    "# Step 1: Select data for the year 2033\n",
    "ds_2033 = ds.sel(time=slice(\"2033-01-01\", \"2033-12-31\"))\n",
    "\n",
    "# Step 2: Compute mean precipitation over space (lat & lon) and sum over time\n",
    "total_pr_2033_mm = ds_2033[\"pr\"].mean(dim=[\"lat\", \"lon\"]).sum(dim=\"time\").compute() * 86400\n",
    "\n",
    "# Step 3: Compute yearly average\n",
    "average_pr_2033_mm_year = total_pr_2033_mm  # Since this is for a single year\n",
    "\n",
    "print(f\"📊 Average Yearly Precipitation in 2033: {average_pr_2033_mm_year:.2f} mm/year\")"
   ]
  },
  {
   "cell_type": "code",
   "execution_count": null,
   "id": "08cf739f-3025-4c72-9bc9-88cad761e73d",
   "metadata": {},
   "outputs": [],
   "source": [
    "# Step 1: Select data for the year 2034\n",
    "ds_2034 = ds.sel(time=slice(\"2034-01-01\", \"2034-12-31\"))\n",
    "\n",
    "# compute mean precipitation\n",
    "total_pr_2034_mm = ds_2034[\"pr\"].mean(dim = [\"lat\", \"lon\"]).sum(dim=\"time\").compute() * 86400\n",
    "\n",
    "# compute mean precipitation\n",
    "average_pr_2034_mm_year = total_pr_2034_mm\n",
    "\n",
    "print(f\"📊Average yearly precipitaiton in 2034: {average_pr_2034_mm_year:.2f} mm_year\")"
   ]
  },
  {
   "cell_type": "code",
   "execution_count": null,
   "id": "eb43fc8c-c554-4a38-a318-db17ed2bbd33",
   "metadata": {},
   "outputs": [],
   "source": [
    "# Step 1: Select data for the year 2035\n",
    "ds_2035 = ds.sel(time=slice(\"2035-01-01\" , \"2035-12-31\"))\n",
    "\n",
    "# compute mean precipitation\n",
    "total_pr_2035_mm = ds_2035[\"pr\"].mean(dim = [\"lat\", \"lon\"]).sum(dim=\"time\").compute() * 86400\n",
    "\n",
    "# compute mean precipitation\n",
    "average_pr_2035_mm_year = total_pr_2035_mm\n",
    "\n",
    "print(f\"📊Average precipitation of 2035: {average_pr_2035_mm_year:.2f}mm/year\")"
   ]
  },
  {
   "cell_type": "code",
   "execution_count": null,
   "id": "1f7a87f0-a4c8-4f24-bd45-76a837d2ed83",
   "metadata": {},
   "outputs": [],
   "source": [
    "# Step 1: Select data for the year 2036\n",
    "ds_2036 = ds.sel(time=slice(\"2036-01-01\" , \"2036-12-31\"))\n",
    "\n",
    "# compute mean precipitation\n",
    "total_pr_2036_mm = ds_2036[\"pr\"].mean(dim = [\"lat\", \"lon\"]).sum(dim=\"time\").compute() * 86400\n",
    "\n",
    "# compute mean precipitation\n",
    "average_pr_2036_mm_year = total_pr_2036_mm\n",
    "\n",
    "print(f\"📊Average precipitation of 2036: {average_pr_2036_mm_year:.2f}mm/year\")"
   ]
  },
  {
   "cell_type": "code",
   "execution_count": null,
   "id": "1e87d36b-c934-422d-b259-e9851d8eebf5",
   "metadata": {},
   "outputs": [],
   "source": [
    "# Step 1: Select data for the year 2037\n",
    "ds_2037 = ds.sel(time=slice(\"2037-01-01\" , \"2037-12-31\"))\n",
    "\n",
    "# compute mean precipitation\n",
    "total_pr_2037_mm = ds_2037[\"pr\"].mean(dim = [\"lat\", \"lon\"]).sum(dim=\"time\").compute() * 86400\n",
    "\n",
    "# compute mean precipitation\n",
    "average_pr_2037_mm_year = total_pr_2037_mm\n",
    "\n",
    "print(f\"📊Average precipitation of 2037: {average_pr_2037_mm_year:.2f}mm/year\")"
   ]
  },
  {
   "cell_type": "code",
   "execution_count": null,
   "id": "768409ec-4184-488e-92ac-5216569b0008",
   "metadata": {},
   "outputs": [],
   "source": [
    "# Step 1: Select data for the year 2038\n",
    "ds_2038 = ds.sel(time=slice(\"2038-01-01\" , \"2038-12-31\"))\n",
    "\n",
    "# compute mean precipitation\n",
    "total_pr_2038_mm = ds_2038[\"pr\"].mean(dim = [\"lat\", \"lon\"]).sum(dim=\"time\").compute() * 86400\n",
    "\n",
    "# compute mean precipitation\n",
    "average_pr_2038_mm_year = total_pr_2038_mm\n",
    "\n",
    "print(f\"📊Average precipitation of 2038: {average_pr_2038_mm_year:.2f}mm/year\")"
   ]
  },
  {
   "cell_type": "code",
   "execution_count": null,
   "id": "637ca677-b077-4c6d-b363-85bfdfaac910",
   "metadata": {},
   "outputs": [],
   "source": [
    "# Step 1: Select data for the year 2039\n",
    "ds_2039 = ds.sel(time=slice(\"2039-01-01\" , \"2039-12-31\"))\n",
    "\n",
    "# compute mean precipitation\n",
    "total_pr_2039_mm = ds_2039[\"pr\"].mean(dim = [\"lat\", \"lon\"]).sum(dim=\"time\").compute() * 86400\n",
    "\n",
    "# compute mean precipitation\n",
    "average_pr_2039_mm_year = total_pr_2039_mm\n",
    "\n",
    "print(f\"📊Average precipitation of 2039: {average_pr_2039_mm_year:.2f}mm/year\")"
   ]
  },
  {
   "cell_type": "code",
   "execution_count": null,
   "id": "d274fa21-641c-419f-8172-f2063d6b9685",
   "metadata": {},
   "outputs": [],
   "source": [
    "# Step 1: Select data for the year 2040\n",
    "ds_2040 = ds.sel(time=slice(\"2040-01-01\" , \"2040-12-31\"))\n",
    "\n",
    "# compute mean precipitation\n",
    "total_pr_2040_mm = ds_2040[\"pr\"].mean(dim = [\"lat\", \"lon\"]).sum(dim=\"time\").compute() * 86400\n",
    "\n",
    "# compute mean precipitation\n",
    "average_pr_2040_mm_year = total_pr_2040_mm\n",
    "\n",
    "print(f\"📊Average precipitation of 2040: {average_pr_2040_mm_year:.2f}mm/year\")"
   ]
  },
  {
   "cell_type": "code",
   "execution_count": null,
   "id": "fff6bb82-b9fc-4320-9dd2-063a37d7ad1c",
   "metadata": {},
   "outputs": [],
   "source": [
    "# Step 1: Select data for the year 2031-2040\n",
    "ds_2031_40 = ds.sel(time=slice(\"2031-01-01\" , \"2040-12-31\"))\n",
    "\n",
    "# compute mean precipitation\n",
    "total_pr_2031_40_mm = ds_2031_40[\"pr\"].mean(dim = [\"lat\", \"lon\"]).sum(dim=\"time\").compute() * 86400\n",
    "\n",
    "# compute mean precipitation\n",
    "average_pr_2031_40_mm_year = total_pr_2031_40_mm\n",
    "\n",
    "print(f\"📊Average precipitation of 2031-2040: {average_pr_2031_40_mm_year:.2f}mm/year\")"
   ]
  },
  {
   "cell_type": "code",
   "execution_count": null,
   "id": "fb3bf6b1-63fb-4ca1-ab59-0715d3061bd3",
   "metadata": {},
   "outputs": [],
   "source": [
    "# Given yearly precipitation values\n",
    "precipitation_values = [957.34, 957.84, 960.56, 961.01, 964.58, \n",
    "                        964.57, 960.08, 971.49, 969.34, 972.72]\n",
    "\n",
    "# Calculate the 10-year average precipitation\n",
    "average_precipitation_10_years = sum(precipitation_values) / len(precipitation_values)\n",
    "average_precipitation_10_years"
   ]
  },
  {
   "cell_type": "code",
   "execution_count": null,
   "id": "4025eab0-7e73-4cf7-ab50-d690a7d3730a",
   "metadata": {},
   "outputs": [],
   "source": [
    "import xarray as xr\n",
    "import numpy as np\n",
    "\n",
    "# Given yearly precipitation values\n",
    "precipitation_values = [957.34, 957.84, 960.56, 961.01, 964.58, \n",
    "                        964.57, 960.08, 971.49, 969.34, 972.72]\n",
    "\n",
    "# Calculate the 10-year average precipitation\n",
    "average_precipitation_10_years = sum(precipitation_values) / len(precipitation_values)\n",
    "\n",
    "# Create an xarray dataset\n",
    "ds = xr.Dataset(\n",
    "    {\n",
    "        \"precipitation\": ((\"time\"), [average_precipitation_10_years])  # Define the variable\n",
    "    },\n",
    "    coords={\n",
    "        \"time\": np.array([\"2030-01-01\"], dtype=\"datetime64\"),  # Time coordinate\n",
    "    }\n",
    ")\n",
    "\n",
    "# Define output file path\n",
    "nc_output_path = \"decadal_avg_precip.nc\"\n",
    "\n",
    "# Save as NetCDF\n",
    "ds.to_netcdf(nc_output_path)\n",
    "\n",
    "print(f\"✅ 10-Year Average Precipitation saved as NetCDF: {nc_output_path}\")\n"
   ]
  },
  {
   "cell_type": "code",
   "execution_count": null,
   "id": "616b1402-cfb8-4af0-ae3b-ee38bd0c583e",
   "metadata": {},
   "outputs": [],
   "source": [
    "import os\n",
    "import xarray as xr\n",
    "\n",
    "# Load NetCDF file\n",
    "ds = xr.open_dataset(\"C:/Users/4784faiza/decadal_avg_precip.nc\")\n",
    "\n",
    "# Convert to Pandas DataFrame\n",
    "df = ds.to_dataframe()\n",
    "\n",
    "print(ds)"
   ]
  },
  {
   "cell_type": "code",
   "execution_count": null,
   "id": "65c0ab21-a059-4e6d-9ed5-448d04d7e7da",
   "metadata": {},
   "outputs": [],
   "source": [
    "import xarray as xr\n",
    "import numpy as np\n",
    "\n",
    "# Given yearly precipitation values (2031-2040)\n",
    "precipitation_values = [957.34, 957.84, 960.56, 961.01, 964.58, \n",
    "                        964.57, 960.08, 971.49, 969.34, 972.72]\n",
    "\n",
    "# Calculate the 10-year average precipitation\n",
    "average_precipitation_10_years = sum(precipitation_values) / len(precipitation_values)\n",
    "\n",
    "# Create a time array for 2031-2040\n",
    "time_range = np.array([\"2031-01-01\", \"2040-12-31\"], dtype=\"datetime64\")\n",
    "\n",
    "# Create an xarray dataset\n",
    "ds = xr.Dataset(\n",
    "    {\n",
    "        \"precipitation\": ((\"time\"), [average_precipitation_10_years])  # Define the variable\n",
    "    },\n",
    "    coords={\n",
    "        \"time\": time_range  # Time coordinate covering 2031-2040\n",
    "    }\n",
    ")\n",
    "\n",
    "# Define output NetCDF file path\n",
    "nc_output_path = \"decadal_avg_precipitation_2031_2040.nc\"\n",
    "\n",
    "# Save as NetCDF\n",
    "ds.to_netcdf(nc_output_path)\n",
    "\n",
    "print(f\"✅ 10-Year Average Precipitation (2031-2040) saved as NetCDF: {nc_output_path}\")\n"
   ]
  },
  {
   "cell_type": "code",
   "execution_count": 13,
   "id": "fd897334-cce1-41d8-a415-835a7b47712b",
   "metadata": {},
   "outputs": [
    {
     "name": "stdout",
     "output_type": "stream",
     "text": [
      "📊 Decadal Average Precipitation (2031-2040): 963.95 mm/year\n"
     ]
    }
   ],
   "source": [
    "# Step 1: Select data for the year 2031-2040\n",
    "ds_2031_40 = ds.sel(time=slice(\"2031-01-01\", \"2040-12-31\"))\n",
    "\n",
    "# Compute total precipitation over 10 years (sum over time)\n",
    "total_pr_2031_40_mm = ds_2031_40[\"pr\"].mean(dim=[\"lat\", \"lon\"]).sum(dim=\"time\").compute() * 86400\n",
    "\n",
    "# Compute **decadal average precipitation** (divide by 10 years)\n",
    "decadal_avg_pr_2031_40_mm = total_pr_2031_40_mm / 10  # Divide by 10 years\n",
    "\n",
    "print(f\"📊 Decadal Average Precipitation (2031-2040): {decadal_avg_pr_2031_40_mm:.2f} mm/year\")\n"
   ]
  },
  {
   "cell_type": "code",
   "execution_count": null,
   "id": "e9282922-f331-4db8-bb80-995e5f356440",
   "metadata": {
    "scrolled": true
   },
   "outputs": [],
   "source": [
    "import xarray as xr\n",
    "\n",
    "# Step 1: Select data for the year 2031-2040\n",
    "ds_2031_40 = ds.sel(time=slice(\"2031-01-01\", \"2040-12-31\"))\n",
    "\n",
    "# Step 2: Compute mean precipitation over 10 years\n",
    "decadal_avg_pr_2031_40_mm = (ds_2031_40[\"pr\"].mean(dim=[\"time\"]) * 86400).compute()\n",
    "\n",
    "# Step 3: Create a new dataset for exporting\n",
    "ds_export = xr.Dataset(\n",
    "    {\n",
    "        \"decadal_avg_precipitation\": ((\"lat\", \"lon\"), decadal_avg_pr_2031_40_mm)\n",
    "    },\n",
    "    coords={\n",
    "        \"lat\": ds_2031_40[\"lat\"],\n",
    "        \"lon\": ds_2031_40[\"lon\"]\n",
    "    }\n",
    ")\n",
    "\n",
    "# Step 4: Define output NetCDF file path\n",
    "nc_output_path = \"decadal_avg_precipitation_2031_2040new.nc\"\n",
    "\n",
    "# Step 5: Save as NetCDF\n",
    "ds_export.to_netcdf(nc_output_path)\n",
    "\n",
    "print(f\"✅ NetCDF file saved: {nc_output_path}\")\n"
   ]
  },
  {
   "cell_type": "code",
   "execution_count": null,
   "id": "9ac21ca8-16d0-45c4-8dc8-eeff83cd24ef",
   "metadata": {},
   "outputs": [],
   "source": [
    "     "
   ]
  },
  {
   "cell_type": "code",
   "execution_count": null,
   "id": "11f7c919-c672-4142-b493-ece27f44c5bc",
   "metadata": {},
   "outputs": [],
   "source": [
    "import matplotlib.pyplot as plt\n",
    "\n",
    "# Load NetCDF\n",
    "ds_viz = xr.open_dataset(\"decadal_avg_precipitation_2031_2040.nc\")\n",
    "\n",
    "# Plot the precipitation data\n",
    "plt.figure(figsize=(12, 6))\n",
    "ds_viz[\"decadal_avg_precipitation\"].plot(cmap=\"Blues\")\n",
    "plt.title(\"Decadal Average Precipitation (2031-2040)\")\n",
    "plt.show()\n"
   ]
  },
  {
   "cell_type": "code",
   "execution_count": null,
   "id": "39bf8d56-3a39-4e56-ad32-d99256bd3359",
   "metadata": {},
   "outputs": [],
   "source": [
    "import xarray as xr\n",
    "import matplotlib.pyplot as plt\n",
    "\n",
    "# Load NetCDF file\n",
    "ds_viz = xr.open_dataset(\"decadal_avg_precipitation_2031_2040.nc\")\n",
    "\n",
    "# Plot precipitation data\n",
    "plt.figure(figsize=(12, 6))\n",
    "cmap = \"Blues\"  # Change to \"coolwarm\", \"jet\", or \"Spectral\" for different color schemes\n",
    "ds_viz[\"decadal_avg_precipitation\"].plot(cmap=cmap)\n",
    "\n",
    "plt.title(\"Decadal Average Precipitation (2031-2040)\")\n",
    "plt.xlabel(\"Longitude\")\n",
    "plt.ylabel(\"Latitude\")\n",
    "plt.show()\n"
   ]
  },
  {
   "cell_type": "code",
   "execution_count": null,
   "id": "dd036c48-5891-493d-95d5-441fce1935e5",
   "metadata": {
    "scrolled": true
   },
   "outputs": [],
   "source": [
    " print(ds.info())"
   ]
  },
  {
   "cell_type": "code",
   "execution_count": null,
   "id": "5d4385e9-41e5-48ea-80ff-ae8b7865f090",
   "metadata": {},
   "outputs": [],
   "source": [
    "#taking average precipitation form year 2041 - 2050"
   ]
  },
  {
   "cell_type": "code",
   "execution_count": null,
   "id": "062149d3-0a22-4333-b9ff-1ef55ce13931",
   "metadata": {},
   "outputs": [],
   "source": [
    "import xarray as xr\n",
    "\n",
    "# Define NetCDF file path\n",
    "file_path = \"D:/Shehzad/Pr_ACCESS-CM2_2000_2049/pr_day_ACCESS-CM2_ssp245_r1i1p1f1_gn_20150101-20491231.nc\"\n",
    "\n",
    "# Open dataset with lazy loading\n",
    "ds = xr.open_dataset(file_path, chunks={\"time\": 100})\n",
    "\n",
    "# Filter data for the year 2030\n",
    "#ds_2030 = ds.sel(time=slice(\"2030-01-01\", \"2030-12-31\"))\n",
    "print(ds)\n"
   ]
  },
  {
   "cell_type": "code",
   "execution_count": null,
   "id": "f5639977-814a-46a3-b710-f841165efca9",
   "metadata": {},
   "outputs": [],
   "source": [
    "# Step 1: Select data for the year 2041\n",
    "ds_2041 = ds.sel(time=slice(\"2041-01-01\", \"2041-12-31\"))\n",
    "\n",
    "# Step 2: Compute mean precipitation over space (lat & lon) and sum over time\n",
    "total_pr_2041_mm = ds_2041[\"pr\"].mean(dim=[\"lat\", \"lon\"]).sum(dim=\"time\").compute() * 86400\n",
    "\n",
    "# Step 3: Compute yearly average\n",
    "average_pr_2041_mm_year = total_pr_2041_mm  # Since this is for a single year\n",
    "\n",
    "print(f\"📊 Average Yearly Precipitation in 2041: {average_pr_2041_mm_year:.2f} mm/year\")"
   ]
  },
  {
   "cell_type": "code",
   "execution_count": null,
   "id": "b1a50de1-8485-4032-a805-f4a64bc88c55",
   "metadata": {},
   "outputs": [],
   "source": [
    "#This is visualization of precipitation of 2040-2049 averge decade\n",
    "\n",
    "import xarray as xr\n",
    "\n",
    "# Step 1: Select data for the year 2040-2049\n",
    "ds_2040_49 = ds.sel(time=slice(\"2040-01-01\", \"2049-12-31\"))\n",
    "\n",
    "# Step 2: Compute mean precipitation over 10 years\n",
    "decadal_avg_pr_2040_49_mm = (ds_2040_49[\"pr\"].mean(dim=[\"time\"]) * 86400).compute()\n",
    "\n",
    "# Step 3: Create a new dataset for exporting (FIXED)\n",
    "ds_export = xr.Dataset(\n",
    "    {\n",
    "        \"decadal_avg_precipitation\": ((\"lat\", \"lon\"), decadal_avg_pr_2040_49_mm.data)  # Use `.data`\n",
    "    },\n",
    "    coords={\n",
    "        \"lat\": ds_2040_49[\"lat\"],\n",
    "        \"lon\": ds_2040_49[\"lon\"]\n",
    "    }\n",
    ")\n",
    "\n",
    "# Step 4: Define output NetCDF file path\n",
    "nc_output_path = \"decadal_avg_precipitation_2040_2049.nc\"\n",
    "\n",
    "# Step 5: Save as NetCDF\n",
    "ds_export.to_netcdf(nc_output_path)\n",
    "\n",
    "print(f\"✅ NetCDF file saved: {nc_output_path}\")\n"
   ]
  },
  {
   "cell_type": "code",
   "execution_count": null,
   "id": "043184f2-9c0a-4c83-8d97-bb88f7107eb8",
   "metadata": {},
   "outputs": [],
   "source": [
    "#This is visualization of precipitation of 2021-2030 averge decade\n",
    "\n",
    "import xarray as xr\n",
    "\n",
    "# Step 1: Select data for the year 2040-2049\n",
    "ds_2021_30 = ds.sel(time=slice(\"2021-01-01\", \"2030-12-31\"))\n",
    "\n",
    "# Step 2: Compute mean precipitation over 10 years\n",
    "decadal_avg_pr_2021_30_mm = (ds_2021_30[\"pr\"].mean(dim=[\"time\"]) * 86400).compute()\n",
    "\n",
    "# Step 3: Create a new dataset for exporting (FIXED)\n",
    "ds_export = xr.Dataset(\n",
    "    {\n",
    "        \"decadal_avg_precipitation\": ((\"lat\", \"lon\"), decadal_avg_pr_2021_30_mm.data)  # Use `.data`\n",
    "    },\n",
    "    coords={\n",
    "        \"lat\": ds_2021_30[\"lat\"],\n",
    "        \"lon\": ds_2021_30[\"lon\"]\n",
    "    }\n",
    ")\n",
    "\n",
    "# Step 4: Define output NetCDF file path\n",
    "nc_output_path = \"decadal_avg_precipitation_2021_2030.nc\"\n",
    "\n",
    "# Step 5: Save as NetCDF\n",
    "ds_export.to_netcdf(nc_output_path)\n",
    "\n",
    "print(f\"✅ NetCDF file saved: {nc_output_path}\")\n"
   ]
  },
  {
   "cell_type": "code",
   "execution_count": null,
   "id": "6cd9d36f-a4f7-4d1d-b761-d1de3370cdd3",
   "metadata": {},
   "outputs": [],
   "source": [
    "# Step 1: Select data for the year 2041\n",
    "ds_2041 = ds.sel(time=slice(\"2041-01-01\", \"2041-12-31\"))\n",
    "\n",
    "# Step 2: Compute mean precipitation over space (lat & lon) and sum over time\n",
    "total_pr_2041_mm = ds_2041[\"pr\"].mean(dim=[\"lat\", \"lon\"]).sum(dim=\"time\").compute() * 86400\n",
    "\n",
    "# Step 3: Compute yearly average\n",
    "average_pr_2041_mm_year = total_pr_2041_mm  # Since this is for a single year\n",
    "\n",
    "print(f\"📊 Average Yearly Precipitation in 2041: {average_pr_2041_mm_year:.2f} mm/year\")"
   ]
  },
  {
   "cell_type": "code",
   "execution_count": null,
   "id": "0d84a9be-404d-4423-9834-57f71d3e0be9",
   "metadata": {},
   "outputs": [],
   "source": [
    "# Step 1: Select data for the year 2042\n",
    "ds_2042 = ds.sel(time=slice(\"2042-01-01\", \"2042-12-31\"))\n",
    "\n",
    "# Step 2: Compute mean precipitation over space (lat & lon) and sum over time\n",
    "total_pr_2042_mm = ds_2042[\"pr\"].mean(dim=[\"lat\", \"lon\"]).sum(dim=\"time\").compute() * 86400\n",
    "\n",
    "# Step 3: Compute yearly average\n",
    "average_pr_2042_mm_year = total_pr_2042_mm  # Since this is for a single year\n",
    "\n",
    "print(f\"📊 Average Yearly Precipitation in 2042: {average_pr_2042_mm_year:.2f} mm/year\")\n"
   ]
  },
  {
   "cell_type": "code",
   "execution_count": null,
   "id": "e76e80fd-9367-4e15-9293-ef911012fb2c",
   "metadata": {},
   "outputs": [],
   "source": [
    "# Step 1: Select data for the year 2043\n",
    "ds_2043 = ds.sel(time=slice(\"2043-01-01\", \"2043-12-31\"))\n",
    "\n",
    "# Step 2: Compute mean precipitation over space (lat & lon) and sum over time\n",
    "total_pr_2043_mm = ds_2043[\"pr\"].mean(dim=[\"lat\", \"lon\"]).sum(dim=\"time\").compute() * 86400\n",
    "\n",
    "# Step 3: Compute yearly average\n",
    "average_pr_2043_mm_year = total_pr_2043_mm  # Since this is for a single year\n",
    "\n",
    "print(f\"📊 Average Yearly Precipitation in 2043: {average_pr_2043_mm_year:.2f} mm/year\")\n"
   ]
  },
  {
   "cell_type": "code",
   "execution_count": null,
   "id": "ab644a6b-ef87-4f42-bf05-d746b4f5af20",
   "metadata": {},
   "outputs": [],
   "source": [
    "# Step 1: Select data for the year 2044\n",
    "ds_2044 = ds.sel(time=slice(\"2044-01-01\", \"2044-12-31\"))\n",
    "\n",
    "# Step 2: Compute mean precipitation over space (lat & lon) and sum over time\n",
    "total_pr_2044_mm = ds_2044[\"pr\"].mean(dim=[\"lat\", \"lon\"]).sum(dim=\"time\").compute() * 86400\n",
    "\n",
    "# Step 3: Compute yearly average\n",
    "average_pr_2044_mm_year = total_pr_2044_mm  # Since this is for a single year\n",
    "\n",
    "print(f\"📊 Average Yearly Precipitation in 2044: {average_pr_2044_mm_year:.2f} mm/year\")\n"
   ]
  },
  {
   "cell_type": "code",
   "execution_count": null,
   "id": "8f0b4424-32aa-42c8-881a-06d2b8ba717c",
   "metadata": {},
   "outputs": [],
   "source": [
    "# Step 1: Select data for the year 2045\n",
    "ds_2045 = ds.sel(time=slice(\"2045-01-01\", \"2045-12-31\"))\n",
    "\n",
    "# Step 2: Compute mean precipitation over space (lat & lon) and sum over time\n",
    "total_pr_2045_mm = ds_2045[\"pr\"].mean(dim=[\"lat\", \"lon\"]).sum(dim=\"time\").compute() * 86400\n",
    "\n",
    "# Step 3: Compute yearly average\n",
    "average_pr_2045_mm_year = total_pr_2045_mm  # Since this is for a single year\n",
    "\n",
    "print(f\"📊 Average Yearly Precipitation in 2045: {average_pr_2045_mm_year:.2f} mm/year\")\n"
   ]
  },
  {
   "cell_type": "code",
   "execution_count": null,
   "id": "2e159f0f-76c6-423c-ad37-2b09b4f405bb",
   "metadata": {},
   "outputs": [],
   "source": [
    "# Step 1: Select data for the year 2046\n",
    "ds_2046 = ds.sel(time=slice(\"2046-01-01\", \"2046-12-31\"))\n",
    "\n",
    "# Step 2: Compute mean precipitation over space (lat & lon) and sum over time\n",
    "total_pr_2046_mm = ds_2046[\"pr\"].mean(dim=[\"lat\", \"lon\"]).sum(dim=\"time\").compute() * 86400\n",
    "\n",
    "# Step 3: Compute yearly average\n",
    "average_pr_2046_mm_year = total_pr_2046_mm  # Since this is for a single year\n",
    "\n",
    "print(f\"📊 Average Yearly Precipitation in 2046: {average_pr_2046_mm_year:.2f} mm/year\")\n"
   ]
  },
  {
   "cell_type": "code",
   "execution_count": null,
   "id": "ad1ef119-16de-477c-92fc-a946682d6395",
   "metadata": {},
   "outputs": [],
   "source": [
    "# Step 1: Select data for the year 2047\n",
    "ds_2047 = ds.sel(time=slice(\"2047-01-01\", \"2047-12-31\"))\n",
    "\n",
    "# Step 2: Compute mean precipitation over space (lat & lon) and sum over time\n",
    "total_pr_2047_mm = ds_2047[\"pr\"].mean(dim=[\"lat\", \"lon\"]).sum(dim=\"time\").compute() * 86400\n",
    "\n",
    "# Step 3: Compute yearly average\n",
    "average_pr_2047_mm_year = total_pr_2047_mm  # Since this is for a single year\n",
    "\n",
    "print(f\"📊 Average Yearly Precipitation in 2047: {average_pr_2047_mm_year:.2f} mm/year\")\n"
   ]
  },
  {
   "cell_type": "code",
   "execution_count": null,
   "id": "5a0ace40-5e23-4b37-83e6-9e8a86002812",
   "metadata": {},
   "outputs": [],
   "source": [
    "# Step 1: Select data for the year 2048\n",
    "ds_2048 = ds.sel(time=slice(\"2048-01-01\", \"2048-12-31\"))\n",
    "\n",
    "# Step 2: Compute mean precipitation over space (lat & lon) and sum over time\n",
    "total_pr_2048_mm = ds_2048[\"pr\"].mean(dim=[\"lat\", \"lon\"]).sum(dim=\"time\").compute() * 86400\n",
    "\n",
    "# Step 3: Compute yearly average\n",
    "average_pr_2048_mm_year = total_pr_2048_mm  # Since this is for a single year\n",
    "\n",
    "print(f\"📊 Average Yearly Precipitation in 2048: {average_pr_2048_mm_year:.2f} mm/year\")\n"
   ]
  },
  {
   "cell_type": "code",
   "execution_count": null,
   "id": "4166fa03-f911-4fb1-a663-254a7c70f092",
   "metadata": {},
   "outputs": [],
   "source": [
    "# Step 1: Select data for the year 2049\n",
    "ds_2049 = ds.sel(time=slice(\"2049-01-01\", \"2049-12-31\"))\n",
    "\n",
    "# Step 2: Compute mean precipitation over space (lat & lon) and sum over time\n",
    "total_pr_2049_mm = ds_2049[\"pr\"].mean(dim=[\"lat\", \"lon\"]).sum(dim=\"time\").compute() * 86400\n",
    "\n",
    "# Step 3: Compute yearly average\n",
    "average_pr_2049_mm_year = total_pr_2049_mm  # Since this is for a single year\n",
    "\n",
    "print(f\"📊 Average Yearly Precipitation in 2049: {average_pr_2049_mm_year:.2f} mm/year\")\n"
   ]
  },
  {
   "cell_type": "code",
   "execution_count": null,
   "id": "864f7fd1-aa84-4c3f-9762-feea691191c8",
   "metadata": {},
   "outputs": [],
   "source": [
    "#This is visualization of precipitation of 2025-2025 averge decade\n",
    "\n",
    "import xarray as xr\n",
    "\n",
    "# Step 1: Select data for the year 2025-2025\n",
    "ds_2025_25 = ds.sel(time=slice(\"2025-01-01\", \"2025-12-31\"))\n",
    "\n",
    "# Step 2: Compute mean precipitation over 1 years\n",
    "decadal_avg_pr_2025_25_mm = (ds_2025_25[\"pr\"].mean(dim=[\"time\"]) * 86400).compute()\n",
    "\n",
    "# Step 3: Create a new dataset for exporting (FIXED)\n",
    "ds_export = xr.Dataset(\n",
    "    {\n",
    "        \"decadal_avg_precipitation\": ((\"lat\", \"lon\"), decadal_avg_pr_2025_25_mm.data)  # Use `.data`\n",
    "    },\n",
    "    coords={\n",
    "        \"lat\": ds_2025_25[\"lat\"],\n",
    "        \"lon\": ds_2025_25[\"lon\"]\n",
    "    }\n",
    ")\n",
    "\n",
    "# Step 4: Define output NetCDF file path\n",
    "nc_output_path = \"avg_precipitation_2025_2025.nc\"\n",
    "\n",
    "# Step 5: Save as NetCDF\n",
    "ds_export.to_netcdf(nc_output_path)\n",
    "\n",
    "print(f\"✅ NetCDF file saved: {nc_output_path}\")\n"
   ]
  },
  {
   "cell_type": "code",
   "execution_count": null,
   "id": "93b84b40-893b-4861-a582-527198d0b22d",
   "metadata": {},
   "outputs": [],
   "source": [
    "#This is visualization of precipitation of 2026-2026 averge decade\n",
    "\n",
    "import xarray as xr\n",
    "\n",
    "# Step 1: Select data for the year 2026-2026\n",
    "ds_2026_26 = ds.sel(time=slice(\"2026-01-01\", \"2026-12-31\"))\n",
    "\n",
    "# Step 2: Compute mean precipitation over 1 years\n",
    "decadal_avg_pr_2026_26_mm = (ds_2026_26[\"pr\"].mean(dim=[\"time\"]) * 86400).compute()\n",
    "\n",
    "# Step 3: Create a new dataset for exporting (FIXED)\n",
    "ds_export = xr.Dataset(\n",
    "    {\n",
    "        \"decadal_avg_precipitation\": ((\"lat\", \"lon\"), decadal_avg_pr_2026_26_mm.data)  # Use `.data`\n",
    "    },\n",
    "    coords={\n",
    "        \"lat\": ds_2026_26[\"lat\"],\n",
    "        \"lon\": ds_2026_26[\"lon\"]\n",
    "    }\n",
    ")\n",
    "\n",
    "# Step 4: Define output NetCDF file path\n",
    "nc_output_path = \"avg_precipitation_2026_2026.nc\"\n",
    "\n",
    "# Step 5: Save as NetCDF\n",
    "ds_export.to_netcdf(nc_output_path)\n",
    "\n",
    "print(f\"✅ NetCDF file saved: {nc_output_path}\")\n"
   ]
  },
  {
   "cell_type": "code",
   "execution_count": null,
   "id": "ca72579f-dc46-4784-838b-6bb5585e76e6",
   "metadata": {},
   "outputs": [],
   "source": [
    "#This is visualization of precipitation of 2027-2027 averge decade\n",
    "\n",
    "import xarray as xr\n",
    "\n",
    "# Step 1: Select data for the year 2027-2027\n",
    "ds_2027_27 = ds.sel(time=slice(\"2027-01-01\", \"2027-12-31\"))\n",
    "\n",
    "# Step 2: Compute mean precipitation over 1 years\n",
    "decadal_avg_pr_2027_27_mm = (ds_2027_27[\"pr\"].mean(dim=[\"time\"]) * 86400).compute()\n",
    "\n",
    "# Step 3: Create a new dataset for exporting (FIXED)\n",
    "ds_export = xr.Dataset(\n",
    "    {\n",
    "        \"decadal_avg_precipitation\": ((\"lat\", \"lon\"), decadal_avg_pr_2027_27_mm.data)  # Use `.data`\n",
    "    },\n",
    "    coords={\n",
    "        \"lat\": ds_2027_27[\"lat\"],\n",
    "        \"lon\": ds_2027_27[\"lon\"]\n",
    "    }\n",
    ")\n",
    "\n",
    "# Step 4: Define output NetCDF file path\n",
    "nc_output_path = \"avg_precipitation_2027_2027.nc\"\n",
    "\n",
    "# Step 5: Save as NetCDF\n",
    "ds_export.to_netcdf(nc_output_path)\n",
    "\n",
    "print(f\"✅ NetCDF file saved: {nc_output_path}\")\n"
   ]
  },
  {
   "cell_type": "code",
   "execution_count": null,
   "id": "1e6607f7-4aad-44e6-993c-0ef359cc8fc3",
   "metadata": {},
   "outputs": [],
   "source": [
    "#This is visualization of precipitation of 2028-2028 averge decade\n",
    "\n",
    "import xarray as xr\n",
    "\n",
    "# Step 1: Select data for the year 2028-2028\n",
    "ds_2028_28 = ds.sel(time=slice(\"2028-01-01\", \"2028-12-31\"))\n",
    "\n",
    "# Step 2: Compute mean precipitation over 1 years\n",
    "decadal_avg_pr_2028_28_mm = (ds_2028_28[\"pr\"].mean(dim=[\"time\"]) * 86400).compute()\n",
    "\n",
    "# Step 3: Create a new dataset for exporting (FIXED)\n",
    "ds_export = xr.Dataset(\n",
    "    {\n",
    "        \"decadal_avg_precipitation\": ((\"lat\", \"lon\"), decadal_avg_pr_2028_28_mm.data)  # Use `.data`\n",
    "    },\n",
    "    coords={\n",
    "        \"lat\": ds_2028_28[\"lat\"],\n",
    "        \"lon\": ds_2028_28[\"lon\"]\n",
    "    }\n",
    ")\n",
    "\n",
    "# Step 4: Define output NetCDF file path\n",
    "nc_output_path = \"avg_precipitation_2028_2028.nc\"\n",
    "\n",
    "# Step 5: Save as NetCDF\n",
    "ds_export.to_netcdf(nc_output_path)\n",
    "\n",
    "print(f\"✅ NetCDF file saved: {nc_output_path}\")\n"
   ]
  },
  {
   "cell_type": "code",
   "execution_count": null,
   "id": "c410dd65-68f0-45c5-bcc6-b284978f4c1f",
   "metadata": {},
   "outputs": [],
   "source": [
    "#This is visualization of precipitation of 2029-2029 averge decade\n",
    "\n",
    "import xarray as xr\n",
    "\n",
    "# Step 1: Select data for the year 2029-2029\n",
    "ds_2029_29 = ds.sel(time=slice(\"2029-01-01\", \"2029-12-31\"))\n",
    "\n",
    "# Step 2: Compute mean precipitation over 1 years\n",
    "decadal_avg_pr_2029_29_mm = (ds_2029_29[\"pr\"].mean(dim=[\"time\"]) * 86400).compute()\n",
    "\n",
    "# Step 3: Create a new dataset for exporting (FIXED)\n",
    "ds_export = xr.Dataset(\n",
    "    {\n",
    "        \"decadal_avg_precipitation\": ((\"lat\", \"lon\"), decadal_avg_pr_2029_29_mm.data)  # Use `.data`\n",
    "    },\n",
    "    coords={\n",
    "        \"lat\": ds_2029_29[\"lat\"],\n",
    "        \"lon\": ds_2029_29[\"lon\"]\n",
    "    }\n",
    ")\n",
    "\n",
    "# Step 4: Define output NetCDF file path\n",
    "nc_output_path = \"avg_precipitation_2029_2029.nc\"\n",
    "\n",
    "# Step 5: Save as NetCDF\n",
    "ds_export.to_netcdf(nc_output_path)\n",
    "\n",
    "print(f\"✅ NetCDF file saved: {nc_output_path}\")\n"
   ]
  },
  {
   "cell_type": "code",
   "execution_count": null,
   "id": "e9c083d8-e76c-4c4a-8501-5c6b252b8f80",
   "metadata": {
    "scrolled": true
   },
   "outputs": [],
   "source": [
    "#This is visualization of precipitation of 2030-2030 averge decade\n",
    "\n",
    "import xarray as xr\n",
    "\n",
    "# Step 1: Select data for the year 2030-2030\n",
    "ds_2030_30 = ds.sel(time=slice(\"2030-01-01\", \"2030-12-31\"))\n",
    "\n",
    "# Step 2: Compute mean precipitation over 1 years\n",
    "decadal_avg_pr_2030_30_mm = (ds_2030_30[\"pr\"].mean(dim=[\"time\"]) * 86400).compute()\n",
    "\n",
    "# Step 3: Create a new dataset for exporting (FIXED)\n",
    "ds_export = xr.Dataset(\n",
    "    {\n",
    "        \"decadal_avg_precipitation\": ((\"lat\", \"lon\"), decadal_avg_pr_2030_30_mm.data)  # Use `.data`\n",
    "    },\n",
    "    coords={\n",
    "        \"lat\": ds_2030_30[\"lat\"],\n",
    "        \"lon\": ds_2030_30[\"lon\"]\n",
    "    }\n",
    ")\n",
    "\n",
    "# Step 4: Define output NetCDF file path\n",
    "nc_output_path = \"avg_precipitation_2030_2030.nc\"\n",
    "\n",
    "# Step 5: Save as NetCDF\n",
    "ds_export.to_netcdf(nc_output_path)\n",
    "\n",
    "print(f\"✅ NetCDF file saved: {nc_output_path}\")\n"
   ]
  },
  {
   "cell_type": "code",
   "execution_count": null,
   "id": "07588834-d584-4d0a-887e-a3a139da5484",
   "metadata": {},
   "outputs": [],
   "source": [
    "import xarray as xr\n",
    "import matplotlib.pyplot as plt\n",
    "\n",
    "# Load NetCDF file\n",
    "ds_viz = xr.open_dataset(\"avg_precipitation_2025_2025.nc\")\n",
    "\n",
    "# Plot precipitation data\n",
    "plt.figure(figsize=(12, 6))\n",
    "cmap = \"Blues\"  # Change to \"coolwarm\", \"jet\", or \"Spectral\" for different color schemes\n",
    "ds_viz[\"decadal_avg_precipitation\"].plot(cmap=cmap)\n",
    "\n",
    "plt.title(\" Average Precipitation (2025)\")\n",
    "plt.xlabel(\"Longitude\")\n",
    "plt.ylabel(\"Latitude\")\n",
    "plt.show()\n"
   ]
  },
  {
   "cell_type": "code",
   "execution_count": null,
   "id": "af67c8db-b789-48e1-963f-f57f5c9cdfcf",
   "metadata": {},
   "outputs": [],
   "source": [
    "import xarray as xr\n",
    "import matplotlib.pyplot as plt\n",
    "\n",
    "# Load NetCDF file\n",
    "ds_viz = xr.open_dataset(\"avg_precipitation_2026_2026.nc\")\n",
    "\n",
    "# Plot precipitation data\n",
    "plt.figure(figsize=(12, 6))\n",
    "cmap = \"Blues\"  # Change to \"coolwarm\", \"jet\", or \"Spectral\" for different color schemes\n",
    "ds_viz[\"decadal_avg_precipitation\"].plot(cmap=cmap)\n",
    "\n",
    "plt.title(\" Average Precipitation (2026)\")\n",
    "plt.xlabel(\"Longitude\")\n",
    "plt.ylabel(\"Latitude\")\n",
    "plt.show()\n"
   ]
  },
  {
   "cell_type": "code",
   "execution_count": null,
   "id": "8d05f7b0-ccec-498d-bf21-715af2d66329",
   "metadata": {},
   "outputs": [],
   "source": [
    "import xarray as xr\n",
    "import matplotlib.pyplot as plt\n",
    "\n",
    "# Load NetCDF file\n",
    "ds_viz = xr.open_dataset(\"avg_precipitation_2027_2027.nc\")\n",
    "\n",
    "# Plot precipitation data\n",
    "plt.figure(figsize=(12, 6))\n",
    "cmap = \"Blues\"  # Change to \"coolwarm\", \"jet\", or \"Spectral\" for different color schemes\n",
    "ds_viz[\"decadal_avg_precipitation\"].plot(cmap=cmap)\n",
    "\n",
    "plt.title(\" Average Precipitation (2027)\")\n",
    "plt.xlabel(\"Longitude\")\n",
    "plt.ylabel(\"Latitude\")\n",
    "plt.show()\n"
   ]
  },
  {
   "cell_type": "code",
   "execution_count": null,
   "id": "93ff1914-904d-4709-ad1b-0a92904ce19e",
   "metadata": {},
   "outputs": [],
   "source": [
    "import xarray as xr\n",
    "import matplotlib.pyplot as plt\n",
    "\n",
    "# Load NetCDF file\n",
    "ds_viz = xr.open_dataset(\"avg_precipitation_2028_2028.nc\")\n",
    "\n",
    "# Plot precipitation data\n",
    "plt.figure(figsize=(12, 6))\n",
    "cmap = \"Blues\"  # Change to \"coolwarm\", \"jet\", or \"Spectral\" for different color schemes\n",
    "ds_viz[\"decadal_avg_precipitation\"].plot(cmap=cmap)\n",
    "\n",
    "plt.title(\" Average Precipitation (2028)\")\n",
    "plt.xlabel(\"Longitude\")\n",
    "plt.ylabel(\"Latitude\")\n",
    "plt.show()\n"
   ]
  },
  {
   "cell_type": "code",
   "execution_count": null,
   "id": "491d7df5-6e80-428c-ba47-abaa88a2475c",
   "metadata": {},
   "outputs": [],
   "source": [
    "import xarray as xr\n",
    "import matplotlib.pyplot as plt\n",
    "\n",
    "# Load NetCDF file\n",
    "ds_viz = xr.open_dataset(\"avg_precipitation_2029_2029.nc\")\n",
    "\n",
    "# Plot precipitation data\n",
    "plt.figure(figsize=(12, 6))\n",
    "cmap = \"Blues\"  # Change to \"coolwarm\", \"jet\", or \"Spectral\" for different color schemes\n",
    "ds_viz[\"decadal_avg_precipitation\"].plot(cmap=cmap)\n",
    "\n",
    "plt.title(\" Average Precipitation (2029)\")\n",
    "plt.xlabel(\"Longitude\")\n",
    "plt.ylabel(\"Latitude\")\n",
    "plt.show()\n"
   ]
  },
  {
   "cell_type": "code",
   "execution_count": null,
   "id": "cbd668ca-b1bd-4d7b-bb9f-ceab09b0f15b",
   "metadata": {},
   "outputs": [],
   "source": [
    "import xarray as xr\n",
    "import matplotlib.pyplot as plt\n",
    "\n",
    "# Load NetCDF file\n",
    "ds_viz = xr.open_dataset(\"avg_precipitation_2030_2030.nc\")\n",
    "\n",
    "# Plot precipitation data\n",
    "plt.figure(figsize=(12, 6))\n",
    "cmap = \"Blues\"  # Change to \"coolwarm\", \"jet\", or \"Spectral\" for different color schemes\n",
    "ds_viz[\"decadal_avg_precipitation\"].plot(cmap=cmap)\n",
    "\n",
    "plt.title(\" Average Precipitation (2030)\")\n",
    "plt.xlabel(\"Longitude\")\n",
    "plt.ylabel(\"Latitude\")\n",
    "plt.show()\n"
   ]
  },
  {
   "cell_type": "code",
   "execution_count": null,
   "id": "d0993dc1-2949-4744-98d9-9d947b57fe56",
   "metadata": {},
   "outputs": [],
   "source": [
    "import xarray as xr\n",
    "import matplotlib.pyplot as plt\n",
    "import imageio\n",
    "import os\n",
    "\n",
    "# List of NetCDF files (modify with actual file names)\n",
    "nc_files = [\"precip_2020.nc\", \"precip_2021.nc\", \"precip_2022.nc\", \"precip_2023.nc\"]\n",
    "\n",
    "# Define output GIF file\n",
    "gif_output_path = \"precipitation_animation.gif\"\n",
    "\n",
    "# Temporary folder for storing frames\n",
    "frame_folder = \"frames\"\n",
    "os.makedirs(frame_folder, exist_ok=True)\n",
    "\n",
    "frames = []  # List to store image file paths\n",
    "\n",
    "for nc_file in nc_files:\n",
    "    # Extract year from file name\n",
    "    year = nc_file.split(\"_\")[1].split(\".\")[0]  # Assumes filename format like \"precip_2020.nc\"\n",
    "\n",
    "    # Load the NetCDF file\n",
    "    ds = xr.open_dataset(nc_file)\n",
    "    pr_data = ds[\"precipitation\"]  # Change variable name if needed\n",
    "\n",
    "    # Plot\n",
    "    fig, ax = plt.subplots(figsize=(8, 5))\n",
    "    im = pr_data.plot(ax=ax, cmap=\"Blues\", robust=True)\n",
    "\n",
    "    # Add year label\n",
    "    ax.text(0.05, 0.95, f\"Year: {year}\", transform=ax.transAxes, fontsize=14, fontweight=\"bold\", color=\"black\",\n",
    "            bbox=dict(facecolor=\"white\", alpha=0.7))\n",
    "\n",
    "    # Save frame as an image\n",
    "    frame_path = os.path.join(frame_folder, f\"frame_{year}.png\")\n",
    "    plt.savefig(frame_path, dpi=100, bbox_inches=\"tight\")\n",
    "    plt.close()\n",
    "\n",
    "    # Store image path\n",
    "    frames.append(imageio.v2.imread(frame_path))\n",
    "\n",
    "# Create GIF animation\n",
    "imageio.mimsave(gif_output_path, frames, duration=1)  # duration=1 sec per frame\n",
    "\n",
    "print(f\"✅ GIF created: {gif_output_path}\")\n"
   ]
  },
  {
   "cell_type": "code",
   "execution_count": null,
   "id": "2ce1ccd2-db89-41fc-ac46-0b4e0e590a39",
   "metadata": {},
   "outputs": [],
   "source": [
    "import xarray as xr\n",
    "import matplotlib.pyplot as plt\n",
    "import imageio\n",
    "import os\n",
    "\n",
    "# List of NetCDF files (modify with actual file names)\n",
    "nc_files = [\"avg_precipitation_2025_2025.nc\", \"avg_precipitation_2026_2026.nc\", \"avg_precipitation_2027_2027.nc\", \"avg_precipitation_2028_2028.nc\" , \"avg_precipitation_2029_2029.nc\" , \"avg_precipitation_2030_2030.nc\"]\n",
    "\n",
    "# Define output GIF file\n",
    "gif_output_path = \"precipitation_animation.gif\"\n",
    "\n",
    "# Temporary folder for storing frames\n",
    "frame_folder = \"frames\"\n",
    "os.makedirs(frame_folder, exist_ok=True)\n",
    "\n",
    "frames = []  # List to store image file paths\n",
    "\n",
    "for nc_file in nc_files:\n",
    "    # Extract year from file name\n",
    "    year = nc_file.split(\"_\")[1].split(\".\")[0]  # Assumes filename format like \"precip_2020.nc\"\n",
    "\n",
    "    # Load the NetCDF file\n",
    "    ds = xr.open_dataset(nc_file)\n",
    "    pr_data = ds['decadal_avg_precipitation']  # Change variable name if needed\n",
    "\n",
    "    # Plot\n",
    "    fig, ax = plt.subplots(figsize=(8, 5))\n",
    "    im = pr_data.plot(ax=ax, cmap=\"Blues\", robust=True)\n",
    "\n",
    "    # Add year label\n",
    "    ax.text(0.05, 0.95, f\"Year: {year}\", transform=ax.transAxes, fontsize=14, fontweight=\"bold\", color=\"black\",\n",
    "            bbox=dict(facecolor=\"white\", alpha=0.7))\n",
    "\n",
    "    # Save frame as an image\n",
    "    frame_path = os.path.join(frame_folder, f\"frame_{year}.png\")\n",
    "    plt.savefig(frame_path, dpi=100, bbox_inches=\"tight\")\n",
    "    plt.close()\n",
    "\n",
    "    # Store image path\n",
    "    frames.append(imageio.v2.imread(frame_path))\n",
    "\n",
    "# Create GIF animation\n",
    "imageio.mimsave(gif_output_path, frames, duration=1)  # duration=1 sec per frame\n",
    "\n",
    "print(f\"✅ GIF created: {gif_output_path}\")\n"
   ]
  },
  {
   "cell_type": "code",
   "execution_count": null,
   "id": "05b43010-3d6d-42ac-a420-879caf8db855",
   "metadata": {},
   "outputs": [],
   "source": [
    "import xarray as xr\n",
    "\n",
    "# Open NetCDF file\n",
    "ds = xr.open_dataset(\"D:/Shehzad/Pr_ACCESS-CM2_2000_2049/pr_day_ACCESS-CM2_ssp245_r1i1p1f1_gn_20150101-20491231.nc\")\n",
    "\n",
    "# Display dataset information\n",
    "print(ds)\n"
   ]
  },
  {
   "cell_type": "code",
   "execution_count": null,
   "id": "a2ed07e3-62bf-4e5e-9e6a-596ea07b271c",
   "metadata": {},
   "outputs": [],
   "source": [
    "# Select specific years (e.g., 2025-2030)\n",
    "pr_subset = pr_data.sel(time=slice(\"2025-01-01\", \"2030-12-31\"))\n",
    "\n",
    "# Compute only when needed\n",
    "pr_subset_mm_day = (pr_subset * 86400).compute()  # Convert to mm/day and load in memory\n",
    "print(pr_subset_mm_day)"
   ]
  },
  {
   "cell_type": "code",
   "execution_count": null,
   "id": "2ad62be2-5a01-42c2-89d5-a51c29621686",
   "metadata": {},
   "outputs": [],
   "source": [
    "pr_subset_mm_day.mean()"
   ]
  },
  {
   "cell_type": "code",
   "execution_count": null,
   "id": "60240ebe-a7a8-4081-99e4-a80fa6052f2c",
   "metadata": {},
   "outputs": [],
   "source": [
    "import xarray as xr\n",
    "\n",
    "# Step 1: Open the NetCDF dataset\n",
    "ds = xr.open_dataset(\"D:/Shehzad/Pr_ACCESS-CM2_2000_2049/pr_day_ACCESS-CM2_ssp245_r1i1p1f1_gn_20150101-20491231.nc\")\n",
    "\n",
    "# Step 2: Extract the precipitation variable\n",
    "pr_data = ds[\"pr\"]\n",
    "\n",
    "# Display basic information about precipitation\n",
    "print(pr_data.values)\n"
   ]
  },
  {
   "cell_type": "code",
   "execution_count": null,
   "id": "65a51fc4-7a63-4e11-92be-82deae665d00",
   "metadata": {},
   "outputs": [],
   "source": [
    "pr_da"
   ]
  },
  {
   "cell_type": "code",
   "execution_count": null,
   "id": "254f34e6-cbf1-443a-8146-8d65308df031",
   "metadata": {},
   "outputs": [],
   "source": [
    "# Compute global mean precipitation over time\n",
    "global_avg_pr = pr_data.mean(dim=[\"lat\", \"lon\"]).compute()\n",
    "\n",
    "# Save to CSV\n",
    "global_avg_pr.to_dataframe().reset_index().to_csv(\"global_avg_precipitation.csv\")\n"
   ]
  },
  {
   "cell_type": "code",
   "execution_count": null,
   "id": "1eb80940-59d8-4ffa-96f1-62517a3248c7",
   "metadata": {},
   "outputs": [],
   "source": [
    "import xarray as xr\n",
    "import pandas as pd\n",
    "\n",
    "# Define NetCDF file path (already in Google Drive)\n",
    "file_path = \"/content/drive/My Drive/pr_day_ACCESS-CM2_ssp245_r1i1p1f1_gn_20150101-20491231.nc\"\n",
    "\n",
    "# Open dataset with lazy loading\n",
    "ds = xr.open_dataset(file_path, chunks={\"time\": 100})  # Load time dimension in small chunks\n",
    "\n",
    "# Select only the time range from 2020 to 2030\n",
    "ds_subset = ds.sel(time=slice(\"2020-01-01\", \"2030-12-31\"))\n",
    "\n",
    "# Select only the required variable (e.g., precipitation \"pr\")\n",
    "df = ds_subset[\"pr\"].to_dataframe().reset_index()\n",
    "\n",
    "# Define CSV output path\n",
    "csv_output_path = \"/content/drive/My Drive/pr_2020_2030.csv\"\n",
    "\n",
    "# Save CSV in small chunks to avoid memory issues\n",
    "df.to_csv(csv_output_path, index=False, chunksize=5000)\n",
    "\n",
    "print(f\"✅ CSV file saved at: {csv_output_path}\")\n"
   ]
  },
  {
   "cell_type": "code",
   "execution_count": null,
   "id": "c065a20d-fb4f-4c2a-bc1d-469b8080431d",
   "metadata": {},
   "outputs": [],
   "source": []
  }
 ],
 "metadata": {
  "kernelspec": {
   "display_name": "Python 3 (ipykernel)",
   "language": "python",
   "name": "python3"
  },
  "language_info": {
   "codemirror_mode": {
    "name": "ipython",
    "version": 3
   },
   "file_extension": ".py",
   "mimetype": "text/x-python",
   "name": "python",
   "nbconvert_exporter": "python",
   "pygments_lexer": "ipython3",
   "version": "3.12.7"
  }
 },
 "nbformat": 4,
 "nbformat_minor": 5
}
